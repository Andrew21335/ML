{
 "cells": [
  {
   "cell_type": "markdown",
   "metadata": {
    "datalore": {
     "hide_input_from_viewers": false,
     "hide_output_from_viewers": false,
     "type": "MD"
    }
   },
   "source": [
    "Работу выполнил Сорокин Андрей, студент группы ИУ5-64б"
   ]
  },
  {
   "cell_type": "markdown",
   "metadata": {
    "datalore": {
     "hide_input_from_viewers": false,
     "hide_output_from_viewers": false,
     "type": "MD"
    }
   },
   "source": [
    "Вариант 19, задание 3, датасет 3. "
   ]
  },
  {
   "cell_type": "markdown",
   "metadata": {
    "datalore": {
     "hide_input_from_viewers": false,
     "hide_output_from_viewers": false,
     "type": "MD"
    }
   },
   "source": [
    "**Задание** Для заданного набора данных произведите масштабирование данных (для одного признака) и преобразование категориальных признаков в количественные двумя способами (label encoding, one hot encoding) для одного признака. Какие методы Вы использовали для решения задачи и почему? Для произвольной колонки данных построить график \"Скрипичная диаграмма (violin plot)\""
   ]
  },
  {
   "cell_type": "code",
   "execution_count": 1,
   "metadata": {
    "datalore": {
     "hide_input_from_viewers": false,
     "hide_output_from_viewers": false,
     "type": "CODE"
    }
   },
   "outputs": [],
   "source": [
    "import numpy as np\n",
    "import pandas as pd\n",
    "import seaborn as sns\n",
    "import matplotlib.pyplot as plt\n",
    "%matplotlib inline \n",
    "sns.set(style=\"ticks\")"
   ]
  },
  {
   "cell_type": "code",
   "execution_count": 2,
   "metadata": {
    "datalore": {
     "hide_input_from_viewers": false,
     "hide_output_from_viewers": false,
     "type": "CODE"
    }
   },
   "outputs": [],
   "source": [
    "# Будем анализировать данные только на обучающей выборке\n",
    "data = pd.read_csv('marvel-wikia-data.csv', sep = ',')"
   ]
  },
  {
   "cell_type": "code",
   "execution_count": 3,
   "metadata": {
    "datalore": {
     "hide_input_from_viewers": false,
     "hide_output_from_viewers": false,
     "type": "CODE"
    }
   },
   "outputs": [
    {
     "data": {
      "text/plain": [
       "(16376, 13)"
      ]
     },
     "execution_count": 3,
     "metadata": {},
     "output_type": "execute_result"
    }
   ],
   "source": [
    "data.shape"
   ]
  },
  {
   "cell_type": "code",
   "execution_count": 4,
   "metadata": {
    "datalore": {
     "hide_input_from_viewers": false,
     "hide_output_from_viewers": false,
     "type": "CODE"
    }
   },
   "outputs": [
    {
     "name": "stdout",
     "output_type": "stream",
     "text": [
      "Всего строк: 16376\n"
     ]
    }
   ],
   "source": [
    "total_count = data.shape[0]\n",
    "print('Всего строк: {}'.format(total_count))"
   ]
  },
  {
   "cell_type": "code",
   "execution_count": 5,
   "metadata": {
    "datalore": {
     "hide_input_from_viewers": false,
     "hide_output_from_viewers": false,
     "type": "CODE"
    }
   },
   "outputs": [
    {
     "data": {
      "text/plain": [
       "page_id               int64\n",
       "name                 object\n",
       "urlslug              object\n",
       "ID                   object\n",
       "ALIGN                object\n",
       "EYE                  object\n",
       "HAIR                 object\n",
       "SEX                  object\n",
       "GSM                  object\n",
       "ALIVE                object\n",
       "APPEARANCES         float64\n",
       "FIRST APPEARANCE     object\n",
       "Year                float64\n",
       "dtype: object"
      ]
     },
     "execution_count": 5,
     "metadata": {},
     "output_type": "execute_result"
    }
   ],
   "source": [
    "# типы колонок\n",
    "data.dtypes"
   ]
  },
  {
   "cell_type": "code",
   "execution_count": 6,
   "metadata": {
    "datalore": {
     "hide_input_from_viewers": false,
     "hide_output_from_viewers": false,
     "type": "CODE"
    }
   },
   "outputs": [
    {
     "data": {
      "text/html": [
       "<div>\n",
       "<style scoped>\n",
       "    .dataframe tbody tr th:only-of-type {\n",
       "        vertical-align: middle;\n",
       "    }\n",
       "\n",
       "    .dataframe tbody tr th {\n",
       "        vertical-align: top;\n",
       "    }\n",
       "\n",
       "    .dataframe thead th {\n",
       "        text-align: right;\n",
       "    }\n",
       "</style>\n",
       "<table border=\"1\" class=\"dataframe\">\n",
       "  <thead>\n",
       "    <tr style=\"text-align: right;\">\n",
       "      <th></th>\n",
       "      <th>page_id</th>\n",
       "      <th>name</th>\n",
       "      <th>urlslug</th>\n",
       "      <th>ID</th>\n",
       "      <th>ALIGN</th>\n",
       "      <th>EYE</th>\n",
       "      <th>HAIR</th>\n",
       "      <th>SEX</th>\n",
       "      <th>GSM</th>\n",
       "      <th>ALIVE</th>\n",
       "      <th>APPEARANCES</th>\n",
       "      <th>FIRST APPEARANCE</th>\n",
       "      <th>Year</th>\n",
       "    </tr>\n",
       "  </thead>\n",
       "  <tbody>\n",
       "    <tr>\n",
       "      <th>0</th>\n",
       "      <td>1678</td>\n",
       "      <td>Spider-Man (Peter Parker)</td>\n",
       "      <td>\\/Spider-Man_(Peter_Parker)</td>\n",
       "      <td>Secret Identity</td>\n",
       "      <td>Good Characters</td>\n",
       "      <td>Hazel Eyes</td>\n",
       "      <td>Brown Hair</td>\n",
       "      <td>Male Characters</td>\n",
       "      <td>NaN</td>\n",
       "      <td>Living Characters</td>\n",
       "      <td>4043.0</td>\n",
       "      <td>Aug-62</td>\n",
       "      <td>1962.0</td>\n",
       "    </tr>\n",
       "    <tr>\n",
       "      <th>1</th>\n",
       "      <td>7139</td>\n",
       "      <td>Captain America (Steven Rogers)</td>\n",
       "      <td>\\/Captain_America_(Steven_Rogers)</td>\n",
       "      <td>Public Identity</td>\n",
       "      <td>Good Characters</td>\n",
       "      <td>Blue Eyes</td>\n",
       "      <td>White Hair</td>\n",
       "      <td>Male Characters</td>\n",
       "      <td>NaN</td>\n",
       "      <td>Living Characters</td>\n",
       "      <td>3360.0</td>\n",
       "      <td>Mar-41</td>\n",
       "      <td>1941.0</td>\n",
       "    </tr>\n",
       "    <tr>\n",
       "      <th>2</th>\n",
       "      <td>64786</td>\n",
       "      <td>Wolverine (James \\\"Logan\\\" Howlett)</td>\n",
       "      <td>\\/Wolverine_(James_%22Logan%22_Howlett)</td>\n",
       "      <td>Public Identity</td>\n",
       "      <td>Neutral Characters</td>\n",
       "      <td>Blue Eyes</td>\n",
       "      <td>Black Hair</td>\n",
       "      <td>Male Characters</td>\n",
       "      <td>NaN</td>\n",
       "      <td>Living Characters</td>\n",
       "      <td>3061.0</td>\n",
       "      <td>Oct-74</td>\n",
       "      <td>1974.0</td>\n",
       "    </tr>\n",
       "    <tr>\n",
       "      <th>3</th>\n",
       "      <td>1868</td>\n",
       "      <td>Iron Man (Anthony \\\"Tony\\\" Stark)</td>\n",
       "      <td>\\/Iron_Man_(Anthony_%22Tony%22_Stark)</td>\n",
       "      <td>Public Identity</td>\n",
       "      <td>Good Characters</td>\n",
       "      <td>Blue Eyes</td>\n",
       "      <td>Black Hair</td>\n",
       "      <td>Male Characters</td>\n",
       "      <td>NaN</td>\n",
       "      <td>Living Characters</td>\n",
       "      <td>2961.0</td>\n",
       "      <td>Mar-63</td>\n",
       "      <td>1963.0</td>\n",
       "    </tr>\n",
       "    <tr>\n",
       "      <th>4</th>\n",
       "      <td>2460</td>\n",
       "      <td>Thor (Thor Odinson)</td>\n",
       "      <td>\\/Thor_(Thor_Odinson)</td>\n",
       "      <td>No Dual Identity</td>\n",
       "      <td>Good Characters</td>\n",
       "      <td>Blue Eyes</td>\n",
       "      <td>Blond Hair</td>\n",
       "      <td>Male Characters</td>\n",
       "      <td>NaN</td>\n",
       "      <td>Living Characters</td>\n",
       "      <td>2258.0</td>\n",
       "      <td>Nov-50</td>\n",
       "      <td>1950.0</td>\n",
       "    </tr>\n",
       "  </tbody>\n",
       "</table>\n",
       "</div>"
      ],
      "text/plain": [
       "   page_id                                 name  \\\n",
       "0     1678            Spider-Man (Peter Parker)   \n",
       "1     7139      Captain America (Steven Rogers)   \n",
       "2    64786  Wolverine (James \\\"Logan\\\" Howlett)   \n",
       "3     1868    Iron Man (Anthony \\\"Tony\\\" Stark)   \n",
       "4     2460                  Thor (Thor Odinson)   \n",
       "\n",
       "                                   urlslug                ID  \\\n",
       "0              \\/Spider-Man_(Peter_Parker)   Secret Identity   \n",
       "1        \\/Captain_America_(Steven_Rogers)   Public Identity   \n",
       "2  \\/Wolverine_(James_%22Logan%22_Howlett)   Public Identity   \n",
       "3    \\/Iron_Man_(Anthony_%22Tony%22_Stark)   Public Identity   \n",
       "4                    \\/Thor_(Thor_Odinson)  No Dual Identity   \n",
       "\n",
       "                ALIGN         EYE        HAIR              SEX  GSM  \\\n",
       "0     Good Characters  Hazel Eyes  Brown Hair  Male Characters  NaN   \n",
       "1     Good Characters   Blue Eyes  White Hair  Male Characters  NaN   \n",
       "2  Neutral Characters   Blue Eyes  Black Hair  Male Characters  NaN   \n",
       "3     Good Characters   Blue Eyes  Black Hair  Male Characters  NaN   \n",
       "4     Good Characters   Blue Eyes  Blond Hair  Male Characters  NaN   \n",
       "\n",
       "               ALIVE  APPEARANCES FIRST APPEARANCE    Year  \n",
       "0  Living Characters       4043.0           Aug-62  1962.0  \n",
       "1  Living Characters       3360.0           Mar-41  1941.0  \n",
       "2  Living Characters       3061.0           Oct-74  1974.0  \n",
       "3  Living Characters       2961.0           Mar-63  1963.0  \n",
       "4  Living Characters       2258.0           Nov-50  1950.0  "
      ]
     },
     "execution_count": 6,
     "metadata": {},
     "output_type": "execute_result"
    }
   ],
   "source": [
    "# Первые 5 строк датасета\n",
    "data.head()"
   ]
  },
  {
   "cell_type": "code",
   "execution_count": 7,
   "metadata": {
    "datalore": {
     "hide_input_from_viewers": false,
     "hide_output_from_viewers": false,
     "type": "CODE"
    }
   },
   "outputs": [
    {
     "name": "stdout",
     "output_type": "stream",
     "text": [
      "Колонка APPEARANCES. Тип данных float64. Количество пустых значений 1096, 6.69%.\n",
      "Колонка Year. Тип данных float64. Количество пустых значений 815, 4.98%.\n"
     ]
    }
   ],
   "source": [
    "# Выберем числовые колонки с пропущенными значениями\n",
    "# Цикл по колонкам датасета\n",
    "num_cols = []\n",
    "for col in data.columns:\n",
    "    # Количество пустых значений \n",
    "    temp_null_count = data[data[col].isnull()].shape[0]\n",
    "    dt = str(data[col].dtype)\n",
    "    if temp_null_count>0 and (dt=='float64' or dt=='int64'):\n",
    "        num_cols.append(col)\n",
    "        temp_perc = round((temp_null_count / total_count) * 100.0, 2)\n",
    "        print('Колонка {}. Тип данных {}. Количество пустых значений {}, {}%.'.format(col, dt, temp_null_count, temp_perc))"
   ]
  },
  {
   "cell_type": "markdown",
   "metadata": {
    "datalore": {
     "hide_input_from_viewers": false,
     "hide_output_from_viewers": false,
     "type": "MD"
    }
   },
   "source": [
    "Выполним масштабирование колонки \"Appearances\" - кол-во появлений персонажей. Будем использовать метод MinMax"
   ]
  },
  {
   "cell_type": "code",
   "execution_count": 8,
   "metadata": {
    "datalore": {
     "hide_input_from_viewers": false,
     "hide_output_from_viewers": false,
     "type": "CODE"
    }
   },
   "outputs": [],
   "source": [
    "from sklearn.preprocessing import MinMaxScaler, StandardScaler, Normalizer"
   ]
  },
  {
   "cell_type": "code",
   "execution_count": 9,
   "metadata": {
    "datalore": {
     "hide_input_from_viewers": false,
     "hide_output_from_viewers": false,
     "type": "CODE"
    }
   },
   "outputs": [],
   "source": [
    "sc1 = MinMaxScaler()\n",
    "sc1_data = sc1.fit_transform(data[['APPEARANCES']])"
   ]
  },
  {
   "cell_type": "code",
   "execution_count": 12,
   "metadata": {
    "datalore": {
     "hide_input_from_viewers": false,
     "hide_output_from_viewers": false,
     "type": "CODE"
    }
   },
   "outputs": [
    {
     "data": {
      "image/png": "[encoded data removed]"
     },
     "metadata": {
      "image/png": {}
     },
     "output_type": "display_data"
    }
   ],
   "source": [
    "plt.hist(data['APPEARANCES'], 50)\n",
    "plt.show()"
   ]
  },
  {
   "cell_type": "code",
   "execution_count": 10,
   "metadata": {
    "datalore": {
     "hide_input_from_viewers": false,
     "hide_output_from_viewers": false,
     "type": "CODE"
    }
   },
   "outputs": [
    {
     "data": {
      "image/png": "[encoded data removed]",
      "text/plain": [
       "<Figure size 432x288 with 1 Axes>"
      ]
     },
     "metadata": {},
     "output_type": "display_data"
    }
   ],
   "source": [
    "plt.hist(sc1_data, 50)\n",
    "plt.show()"
   ]
  },
  {
   "cell_type": "markdown",
   "metadata": {
    "datalore": {
     "hide_input_from_viewers": false,
     "hide_output_from_viewers": false,
     "type": "MD"
    }
   },
   "source": [
    "Выполним преобразование категориальных признаков в количественные"
   ]
  },
  {
   "cell_type": "code",
   "execution_count": 11,
   "metadata": {
    "datalore": {
     "hide_input_from_viewers": false,
     "hide_output_from_viewers": false,
     "type": "CODE"
    }
   },
   "outputs": [],
   "source": [
    "from sklearn.preprocessing import LabelEncoder, OneHotEncoder"
   ]
  },
  {
   "cell_type": "code",
   "execution_count": 12,
   "metadata": {
    "datalore": {
     "hide_input_from_viewers": false,
     "hide_output_from_viewers": false,
     "type": "CODE"
    }
   },
   "outputs": [
    {
     "name": "stdout",
     "output_type": "stream",
     "text": [
      "Колонка ID. Тип данных object. Количество пустых значений 3770, 23.02%.\n",
      "Колонка ALIGN. Тип данных object. Количество пустых значений 2812, 17.17%.\n",
      "Колонка EYE. Тип данных object. Количество пустых значений 9767, 59.64%.\n",
      "Колонка HAIR. Тип данных object. Количество пустых значений 4264, 26.04%.\n",
      "Колонка SEX. Тип данных object. Количество пустых значений 854, 5.21%.\n",
      "Колонка GSM. Тип данных object. Количество пустых значений 16286, 99.45%.\n",
      "Колонка ALIVE. Тип данных object. Количество пустых значений 3, 0.02%.\n",
      "Колонка FIRST APPEARANCE. Тип данных object. Количество пустых значений 815, 4.98%.\n"
     ]
    }
   ],
   "source": [
    "# Выберем категориальные колонки с пропущенными значениями\n",
    "# Цикл по колонкам датасета\n",
    "cat_cols = []\n",
    "for col in data.columns:\n",
    "    # Количество пустых значений \n",
    "    temp_null_count = data[data[col].isnull()].shape[0]\n",
    "    dt = str(data[col].dtype)\n",
    "    if temp_null_count>0 and (dt=='object'):\n",
    "        cat_cols.append(col)\n",
    "        temp_perc = round((temp_null_count / total_count) * 100.0, 2)\n",
    "        print('Колонка {}. Тип данных {}. Количество пустых значений {}, {}%.'.format(col, dt, temp_null_count, temp_perc))"
   ]
  },
  {
   "cell_type": "markdown",
   "metadata": {
    "datalore": {
     "hide_input_from_viewers": false,
     "hide_output_from_viewers": false,
     "type": "MD"
    }
   },
   "source": [
    "Для преобразования возьмем колонку First APPEARANCE. Для этой колонки лучше всего использовать Label Encoding, так как это колонки отражают даты, то есть в них есть порядок. "
   ]
  },
  {
   "cell_type": "code",
   "execution_count": 13,
   "metadata": {
    "datalore": {
     "hide_input_from_viewers": false,
     "hide_output_from_viewers": false,
     "type": "CODE"
    }
   },
   "outputs": [
    {
     "data": {
      "text/html": [
       "<div>\n",
       "<style scoped>\n",
       "    .dataframe tbody tr th:only-of-type {\n",
       "        vertical-align: middle;\n",
       "    }\n",
       "\n",
       "    .dataframe tbody tr th {\n",
       "        vertical-align: top;\n",
       "    }\n",
       "\n",
       "    .dataframe thead th {\n",
       "        text-align: right;\n",
       "    }\n",
       "</style>\n",
       "<table border=\"1\" class=\"dataframe\">\n",
       "  <thead>\n",
       "    <tr style=\"text-align: right;\">\n",
       "      <th></th>\n",
       "      <th>FIRST APPEARANCE</th>\n",
       "    </tr>\n",
       "  </thead>\n",
       "  <tbody>\n",
       "    <tr>\n",
       "      <th>0</th>\n",
       "      <td>Aug-62</td>\n",
       "    </tr>\n",
       "    <tr>\n",
       "      <th>1</th>\n",
       "      <td>Mar-41</td>\n",
       "    </tr>\n",
       "    <tr>\n",
       "      <th>2</th>\n",
       "      <td>Oct-74</td>\n",
       "    </tr>\n",
       "    <tr>\n",
       "      <th>3</th>\n",
       "      <td>Mar-63</td>\n",
       "    </tr>\n",
       "    <tr>\n",
       "      <th>4</th>\n",
       "      <td>Nov-50</td>\n",
       "    </tr>\n",
       "  </tbody>\n",
       "</table>\n",
       "</div>"
      ],
      "text/plain": [
       "  FIRST APPEARANCE\n",
       "0           Aug-62\n",
       "1           Mar-41\n",
       "2           Oct-74\n",
       "3           Mar-63\n",
       "4           Nov-50"
      ]
     },
     "execution_count": 13,
     "metadata": {},
     "output_type": "execute_result"
    }
   ],
   "source": [
    "#Для начала заполним пропущенные данные \n",
    "cat_temp_data = data[['FIRST APPEARANCE']]\n",
    "cat_temp_data.head()"
   ]
  },
  {
   "cell_type": "code",
   "execution_count": 14,
   "metadata": {
    "datalore": {
     "hide_input_from_viewers": false,
     "hide_output_from_viewers": false,
     "type": "CODE"
    }
   },
   "outputs": [
    {
     "data": {
      "text/plain": [
       "array(['Aug-62', 'Mar-41', 'Oct-74', 'Mar-63', 'Nov-50', 'Nov-61',\n",
       "       'May-62', 'Sep-63', nan, 'May-75', 'Sep-64', 'Apr-64', 'Jul-63',\n",
       "       'Jun-65', 'Jan-62', 'Mar-64', 'May-63', 'Jun-63', 'Oct-68',\n",
       "       'Jan-80', 'Mar-68', 'Feb-80', 'Feb-74', 'Jun-72', 'Oct-70',\n",
       "       'Aug-67', 'Oct-65', 'Jul-62', 'Dec-76', 'Mar-66', 'Jul-64',\n",
       "       'Oct-64', 'Nov-82', 'Jul-90', 'May-74', 'Jan-86', 'Nov-64',\n",
       "       'Mar-69', 'Nov-44', 'Oct-39', 'Aug-49', 'Oct-76', 'Jan-79',\n",
       "       'Dec-65', 'Sep-69', 'Jul-67', 'Oct-62', 'Feb-91', 'Dec-67',\n",
       "       'Nov-68', 'Feb-77', 'Aug-72', 'May-89', 'Aug-65', 'Aug-75',\n",
       "       'Mar-65', 'Aug-77', 'Aug-41', 'Jan-67', 'Sep-40', 'Apr-63',\n",
       "       'Sep-76', 'Apr-78', 'Jun-71', 'Dec-70', 'May-84', 'Nov-86',\n",
       "       'Nov-72', 'Dec-75', 'Jul-79', 'Jul-65', 'Apr-05', 'Jul-78',\n",
       "       'Jan-73', 'Dec-45', 'Jun-84', 'May-85', 'Sep-86', 'Dec-64',\n",
       "       'Dec-68', 'Nov-85', 'Apr-79', 'May-90', 'Mar-92', 'Feb-73',\n",
       "       'Dec-73', 'Nov-62', 'Sep-88', 'Jul-75', 'Jan-78', 'Oct-48',\n",
       "       'Aug-64', 'Jan-81', 'Mar-76', 'Aug-84', 'Nov-65', 'Feb-75',\n",
       "       'Apr-81', 'Feb-04', 'Oct-75', 'Jul-71', 'Aug-79', 'Feb-83',\n",
       "       'Mar-72', 'Sep-67', 'Nov-80', 'Nov-63', 'May-71', 'Aug-83',\n",
       "       'Sep-73', 'Dec-83', 'Sep-00', 'Oct-66', 'Sep-03', 'Aug-60',\n",
       "       'Apr-49', 'Jul-85', 'Oct-71', 'Jun-87', 'Nov-04', 'Oct-69',\n",
       "       'Mar-82', 'Feb-64', 'Mar-51', 'Nov-94', 'Jun-75', 'Oct-83',\n",
       "       'Oct-84', 'Sep-62', 'Mar-79', 'Nov-84', 'Jan-75', 'Jan-08',\n",
       "       'May-88', 'Jan-64', 'Jul-73', 'Oct-06', 'Aug-03', 'Jul-68',\n",
       "       'Mar-84', 'Jun-64', 'Nov-66', 'Feb-72', 'Nov-01', 'Feb-69',\n",
       "       'Nov-74', 'Apr-80', 'Feb-02', 'Feb-76', 'Nov-77', 'Dec-89',\n",
       "       'Mar-91', 'Jan-68', 'Apr-75', 'May-80', 'Nov-87', 'Feb-78',\n",
       "       'Oct-77', 'Jun-86', 'Jan-70', 'Jun-85', 'Nov-90', 'Dec-63',\n",
       "       'Jul-66', 'Jun-73', 'Jun-76', 'Oct-85', 'Jan-05', 'Sep-87',\n",
       "       'Jun-61', 'Nov-83', 'Jan-63', 'Feb-66', 'Oct-93', 'Oct-04',\n",
       "       'Jul-77', 'Apr-83', 'Mar-67', 'Jan-04', 'Aug-66', 'Dec-53',\n",
       "       'Nov-43', 'Feb-95', 'Dec-40', 'May-47', 'Feb-65', 'Dec-94',\n",
       "       'May-66', 'Jun-77', 'Mar-86', 'Aug-40', 'Jan-03', 'Nov-76',\n",
       "       'Jan-40', 'Jul-76', 'Aug-81', 'Oct-89', 'Dec-02', 'Jun-49',\n",
       "       'Apr-74', 'May-86', 'Jul-02', 'Apr-84', 'Jan-76', 'Sep-94',\n",
       "       'Aug-05', 'Sep-68', 'Oct-72', 'Apr-67', 'Oct-56', 'Apr-72',\n",
       "       'May-83', 'Mar-88', 'Jul-01', 'Oct-03', 'Aug-02', 'Oct-90',\n",
       "       'Apr-77', 'Jan-88', 'Jun-80', 'Jul-84', 'Sep-85', 'Oct-94',\n",
       "       'Sep-05', 'Aug-69', 'Feb-81', 'Mar-48', 'Jul-03', 'Mar-75',\n",
       "       'Nov-10', 'Mar-05', 'Jan-06', 'Nov-03', 'Aug-63', 'Sep-66',\n",
       "       'Sep-46', 'Sep-65', 'Jul-74', 'Nov-75', 'Apr-76', 'Dec-78',\n",
       "       'Jun-95', 'Sep-98', 'Aug-04', 'Feb-09', 'Jan-97', 'Sep-04',\n",
       "       'May-67', 'Dec-48', 'Aug-90', 'Aug-86', 'Nov-60', 'May-68',\n",
       "       'Dec-79', 'Apr-85', 'Oct-92', 'Feb-67', 'Feb-84', 'Aug-91',\n",
       "       'Jul-80', 'Oct-80', 'Mar-85', 'May-96', 'Oct-73', 'Aug-76',\n",
       "       'Jul-04', 'Mar-06', 'Oct-86', 'Aug-45', 'Nov-81', 'Oct-63',\n",
       "       'May-65', 'Feb-86', 'Jan-92', 'Apr-97', 'Jun-11', 'Sep-75',\n",
       "       'Apr-66', 'Feb-79', 'Dec-86', 'Jun-97', 'Oct-01', 'Jun-69',\n",
       "       'Apr-70', 'Aug-82', 'Oct-87', 'Jun-04', 'Nov-40', 'Aug-54',\n",
       "       'Mar-89', 'Jun-91', 'Aug-10', 'Sep-11', 'Dec-50', 'Jun-05',\n",
       "       'Jan-12', 'Oct-61', 'Aug-68', 'Sep-83', 'Jul-93', 'Nov-98',\n",
       "       'Oct-09', 'Jul-72', 'Oct-79', 'Sep-82', 'Sep-84', 'Sep-06',\n",
       "       'Mar-54', 'Apr-69', 'Nov-69', 'Jan-74', 'Jun-79', 'Sep-80',\n",
       "       'Mar-10', 'Feb-92', 'Dec-99', 'May-09', 'May-55', 'Dec-72',\n",
       "       'Oct-81', 'Jul-91', 'May-05', 'Dec-80', 'Oct-82', 'Feb-71',\n",
       "       'Feb-06', 'Jun-88', 'Jun-00', 'Dec-08', 'Sep-54', 'Feb-63',\n",
       "       'Sep-74', 'Nov-97', 'Sep-02', 'Nov-78', 'Aug-80', 'Apr-06',\n",
       "       'Aug-70', 'Sep-79', 'Mar-73', 'Sep-10', 'Jan-11', 'Mar-44',\n",
       "       'Jan-69', 'Jun-90', 'Sep-91', 'Apr-10', 'Nov-67', 'May-69',\n",
       "       'Jun-07', 'Aug-74', 'Aug-88', 'Nov-89', 'Dec-10', 'Jan-13',\n",
       "       'Oct-41', 'Jun-66', 'Jan-93', 'Dec-95', 'Jan-95', 'Dec-54',\n",
       "       'Sep-77', 'Aug-85', 'Aug-93', 'May-00', 'Jan-09', 'Aug-48',\n",
       "       'May-54', 'May-93', 'Mar-93', 'Feb-97', 'Aug-01', 'Jul-09',\n",
       "       'Jun-41', 'Nov-51', 'May-76', 'Mar-77', 'Jun-89', 'Oct-91',\n",
       "       'Jun-93', 'May-98', 'Oct-10', 'May-72', 'Aug-73', 'Dec-74',\n",
       "       'Jan-96', 'Nov-96', 'Apr-00', 'May-07', 'Jun-08', 'Feb-60',\n",
       "       'May-79', 'Dec-01', 'Jul-08', 'May-64', 'Jan-66', 'Jan-87',\n",
       "       'Aug-98', 'Dec-11', 'Dec-62', 'Sep-70', 'Oct-98', 'Feb-03',\n",
       "       'Nov-08', 'Jul-87', 'Feb-87', 'Oct-95', 'Mar-43', 'Nov-71',\n",
       "       'Jan-72', 'Feb-82', 'Jul-86', 'Sep-95', 'Mar-03', 'Dec-04',\n",
       "       'Aug-71', 'Apr-73', 'Jun-74', 'Dec-77', 'Sep-89', 'Feb-90',\n",
       "       'Apr-90', 'Dec-91', 'Jul-92', 'Mar-70', 'Jan-77', 'Jan-82',\n",
       "       'Jun-92', 'Jul-94', 'Sep-01', 'Jun-03', 'Aug-78', 'Jan-85',\n",
       "       'Feb-89', 'Aug-92', 'Dec-92', 'Nov-92', 'Mar-97', 'Apr-02',\n",
       "       'Feb-13', 'Aug-89', 'Nov-05', 'Jan-07', 'Apr-13', 'Nov-52',\n",
       "       'Jan-83', 'Oct-02', 'May-06', 'Jul-53', 'Oct-60', 'Dec-90',\n",
       "       'May-92', 'Mar-99', 'Feb-01', 'Feb-70', 'Jan-71', 'Jul-89',\n",
       "       'May-02', 'Jun-83', 'Mar-83', 'Dec-87', 'Mar-87', 'Nov-91',\n",
       "       'Mar-94', 'Mar-95', 'Oct-07', 'Mar-07', 'Jun-09', 'Feb-43',\n",
       "       'Jan-52', 'Oct-54', 'Sep-92', 'Mar-09', 'Nov-09', 'May-56',\n",
       "       'Mar-74', 'May-77', 'Mar-80', 'Nov-88', 'May-91', 'Feb-93',\n",
       "       'Mar-01', 'Oct-05', 'Sep-08', 'Apr-08', 'Apr-68', 'Dec-84',\n",
       "       'Jun-01', 'Feb-08', 'Feb-40', 'Sep-78', 'Nov-79', 'Apr-82',\n",
       "       'Apr-93', 'Aug-96', 'Jun-96', 'Jul-97', 'Mar-12', 'Mar-81',\n",
       "       'May-04', 'May-11', 'Aug-12', 'Mar-62', 'May-82', 'Dec-85',\n",
       "       'Dec-88', 'Aug-94', 'Jul-96', 'Aug-07', 'Mar-08', 'Oct-08',\n",
       "       'Feb-42', 'Oct-43', 'May-60', 'Jan-65', 'May-78', 'Apr-87',\n",
       "       'Oct-88', 'Jan-89', 'Apr-89', 'Dec-93', 'May-13', 'Jul-98',\n",
       "       'Aug-11', 'Jul-70', 'Dec-82', 'Jan-91', 'Dec-00', 'Dec-12',\n",
       "       'Apr-58', 'Jan-84', 'Sep-93', 'Aug-97', 'Aug-08', 'Sep-09',\n",
       "       'Apr-41', 'Sep-81', 'Jul-83', 'Apr-91', 'Apr-92', 'Apr-96',\n",
       "       'Jun-99', 'Mar-04', 'Jul-10', 'Aug-53', 'Jun-68', 'Dec-69',\n",
       "       'May-73', 'May-81', 'Apr-88', 'Sep-90', 'Apr-99', 'Jan-01',\n",
       "       'Feb-68', 'Mar-90', 'Jan-94', 'Nov-95', 'Dec-98', 'Jun-02',\n",
       "       'Feb-61', 'Jun-82', 'Apr-86', 'May-87', 'Feb-88', 'May-95',\n",
       "       'Sep-96', 'Jan-02', 'Mar-13', 'Jul-81', 'Jul-82', 'Jan-90',\n",
       "       'Jun-94', 'Jan-99', 'Jun-06', 'Apr-07', 'Jul-11', 'Oct-11',\n",
       "       'Apr-40', 'Apr-42', 'Jul-43', 'Oct-52', 'Sep-72', 'Feb-85',\n",
       "       'Mar-96', 'Jul-06', 'Feb-07', 'May-08', 'Mar-11', 'Mar-40',\n",
       "       'Jan-51', 'Jul-69', 'Oct-97', 'Mar-00', 'Apr-03', 'Dec-06',\n",
       "       'Oct-12', 'Dec-43', 'Dec-71', 'Nov-73', 'May-94', 'Jul-00',\n",
       "       'Aug-00', 'Sep-41', 'Mar-55', 'Jun-81', 'Nov-93', 'Feb-98',\n",
       "       'Aug-99', 'Sep-07', 'Jan-10', 'Jun-10', 'May-51', 'Feb-51',\n",
       "       'Feb-94', 'Jul-95', 'Aug-95', 'Feb-96', 'Feb-99', 'Aug-06',\n",
       "       'Apr-09', 'May-10', 'Jun-42', 'Dec-81', 'Apr-98', 'Jun-98',\n",
       "       'Jul-99', 'Nov-00', 'Feb-05', 'Dec-41', 'Dec-42', 'Sep-43',\n",
       "       'Apr-54', 'Feb-55', 'Apr-65', 'May-70', 'Sep-97', 'May-99',\n",
       "       'Sep-99', 'Jan-00', 'Dec-03', 'Mar-45', 'Apr-48', 'Mar-53',\n",
       "       'Sep-55', 'Mar-78', 'Jul-88', 'Apr-94', 'Nov-07', 'Apr-12',\n",
       "       'Nov-49', 'Apr-53', 'Nov-55', 'May-61', 'Jul-05', 'Nov-06',\n",
       "       'Apr-11', 'Nov-11', 'Jun-12', 'Feb-12', 'Apr-43', 'Jun-47',\n",
       "       'Mar-61', 'Apr-61', 'Mar-71', 'Oct-78', 'Oct-96', 'Mar-98',\n",
       "       'Oct-99', 'Mar-02', 'Dec-09', 'Nov-41', 'Mar-47', 'May-53',\n",
       "       'Jun-60', 'Sep-61', 'Jun-78', 'Aug-87', 'Nov-99', 'Feb-00',\n",
       "       'May-03', 'Dec-05', 'Feb-11', 'Jun-40', 'May-42', 'Jan-42',\n",
       "       'Nov-46', 'Jan-49', 'Jul-54', 'Jan-61', 'Jun-70', 'Dec-96',\n",
       "       'Dec-97', 'Oct-00', 'Apr-04', 'Aug-09', 'Feb-10', 'Oct-40',\n",
       "       'Dec-46', 'Mar-49', 'Jun-51', 'Feb-53', 'Sep-56', 'May-01',\n",
       "       'Nov-02', 'Sep-12', 'Jul-12', 'Jul-42', 'May-48', 'Jun-50',\n",
       "       'Jul-56', 'Dec-56', 'Dec-60', 'Jun-67', 'Oct-67', 'Nov-70',\n",
       "       'Jul-07', 'Nov-12', 'Oct-49', 'Jul-50', 'Jan-53', 'Apr-60',\n",
       "       'Aug-61', 'Feb-62', 'Apr-95', 'May-97', 'Jan-98', 'Apr-01',\n",
       "       'May-12', 'Dec-39', 'Mar-42', 'Dec-44', 'Jan-47', 'Jun-53',\n",
       "       'Nov-54', 'Jun-55', 'Mar-60', 'Jan-60', 'Apr-62', 'Dec-07',\n",
       "       'Jun-13', 'May-40', 'May-41', 'Jul-51', 'Jul-57', 'Feb-59',\n",
       "       'Sep-60', 'Dec-61', 'Jul-61', 'Jul-40', 'Feb-41', 'Aug-42',\n",
       "       'Jan-43', 'Jul-44', 'Jun-45', 'Jul-45', 'Nov-48', 'Feb-52',\n",
       "       'Dec-52', 'Aug-52', 'Apr-52', 'Jun-54', 'Feb-54', 'Jan-54',\n",
       "       'Apr-55', 'Jun-57', 'Jun-58', 'Nov-59', 'Jul-59', 'Jul-60',\n",
       "       'Dec-66', 'Sep-71', 'Apr-71', 'Jul-41', 'Jan-41', 'Sep-42',\n",
       "       'Nov-42', 'Oct-42', 'Jun-43', 'May-43', 'Aug-43', 'Jun-44',\n",
       "       'Sep-44', 'Oct-44', 'May-44', 'Apr-44', 'Feb-44', 'Jan-44',\n",
       "       'Aug-44', 'Sep-45', 'Apr-45', 'Oct-45', 'Jan-45', 'Nov-45',\n",
       "       'Feb-45', 'Feb-46', 'Mar-46', 'Jan-46', 'Aug-46', 'Jul-46',\n",
       "       'May-46', 'Jun-46', 'Apr-46', 'Oct-47', 'Jul-47', 'Sep-47',\n",
       "       'Dec-47', 'Jul-48', 'Feb-48', 'Jun-48', 'Sep-48', 'Jan-48',\n",
       "       'Feb-49', 'Jul-49', 'May-49', 'Sep-49', 'May-50', 'Mar-50',\n",
       "       'Feb-50', 'Apr-50', 'Sep-51', 'Apr-51', 'Aug-51', 'Dec-51',\n",
       "       'Oct-51', 'Jul-52', 'Nov-53', 'Oct-55', 'Jan-55', 'Apr-57',\n",
       "       'Feb-57', 'Sep-59', 'Jun-62', 'Mar-56'], dtype=object)"
      ]
     },
     "execution_count": 14,
     "metadata": {},
     "output_type": "execute_result"
    }
   ],
   "source": [
    "cat_temp_data['FIRST APPEARANCE'].unique()"
   ]
  },
  {
   "cell_type": "code",
   "execution_count": 15,
   "metadata": {
    "datalore": {
     "hide_input_from_viewers": false,
     "hide_output_from_viewers": false,
     "type": "CODE"
    }
   },
   "outputs": [],
   "source": [
    "from sklearn.impute import SimpleImputer\n",
    "from sklearn.impute import MissingIndicator"
   ]
  },
  {
   "cell_type": "code",
   "execution_count": 16,
   "metadata": {
    "datalore": {
     "hide_input_from_viewers": false,
     "hide_output_from_viewers": false,
     "type": "CODE"
    }
   },
   "outputs": [
    {
     "data": {
      "text/plain": [
       "array([['Aug-62'],\n",
       "       ['Mar-41'],\n",
       "       ['Oct-74'],\n",
       "       ...,\n",
       "       ['Jun-92'],\n",
       "       ['Jun-92'],\n",
       "       ['Jun-92']], dtype=object)"
      ]
     },
     "execution_count": 16,
     "metadata": {},
     "output_type": "execute_result"
    }
   ],
   "source": [
    "# Импьютация наиболее частыми значениями\n",
    "imp2 = SimpleImputer(missing_values=np.nan, strategy='most_frequent')\n",
    "data_imp2 = imp2.fit_transform(cat_temp_data)\n",
    "data_imp2"
   ]
  },
  {
   "cell_type": "code",
   "execution_count": 17,
   "metadata": {
    "datalore": {
     "hide_input_from_viewers": false,
     "hide_output_from_viewers": false,
     "type": "CODE"
    }
   },
   "outputs": [
    {
     "data": {
      "text/html": [
       "<div>\n",
       "<style scoped>\n",
       "    .dataframe tbody tr th:only-of-type {\n",
       "        vertical-align: middle;\n",
       "    }\n",
       "\n",
       "    .dataframe tbody tr th {\n",
       "        vertical-align: top;\n",
       "    }\n",
       "\n",
       "    .dataframe thead th {\n",
       "        text-align: right;\n",
       "    }\n",
       "</style>\n",
       "<table border=\"1\" class=\"dataframe\">\n",
       "  <thead>\n",
       "    <tr style=\"text-align: right;\">\n",
       "      <th></th>\n",
       "      <th>c1</th>\n",
       "    </tr>\n",
       "  </thead>\n",
       "  <tbody>\n",
       "    <tr>\n",
       "      <th>0</th>\n",
       "      <td>Aug-62</td>\n",
       "    </tr>\n",
       "    <tr>\n",
       "      <th>1</th>\n",
       "      <td>Mar-41</td>\n",
       "    </tr>\n",
       "    <tr>\n",
       "      <th>2</th>\n",
       "      <td>Oct-74</td>\n",
       "    </tr>\n",
       "    <tr>\n",
       "      <th>3</th>\n",
       "      <td>Mar-63</td>\n",
       "    </tr>\n",
       "    <tr>\n",
       "      <th>4</th>\n",
       "      <td>Nov-50</td>\n",
       "    </tr>\n",
       "    <tr>\n",
       "      <th>...</th>\n",
       "      <td>...</td>\n",
       "    </tr>\n",
       "    <tr>\n",
       "      <th>16371</th>\n",
       "      <td>Jun-92</td>\n",
       "    </tr>\n",
       "    <tr>\n",
       "      <th>16372</th>\n",
       "      <td>Jun-92</td>\n",
       "    </tr>\n",
       "    <tr>\n",
       "      <th>16373</th>\n",
       "      <td>Jun-92</td>\n",
       "    </tr>\n",
       "    <tr>\n",
       "      <th>16374</th>\n",
       "      <td>Jun-92</td>\n",
       "    </tr>\n",
       "    <tr>\n",
       "      <th>16375</th>\n",
       "      <td>Jun-92</td>\n",
       "    </tr>\n",
       "  </tbody>\n",
       "</table>\n",
       "<p>16376 rows × 1 columns</p>\n",
       "</div>"
      ],
      "text/plain": [
       "           c1\n",
       "0      Aug-62\n",
       "1      Mar-41\n",
       "2      Oct-74\n",
       "3      Mar-63\n",
       "4      Nov-50\n",
       "...       ...\n",
       "16371  Jun-92\n",
       "16372  Jun-92\n",
       "16373  Jun-92\n",
       "16374  Jun-92\n",
       "16375  Jun-92\n",
       "\n",
       "[16376 rows x 1 columns]"
      ]
     },
     "execution_count": 17,
     "metadata": {},
     "output_type": "execute_result"
    }
   ],
   "source": [
    "cat_enc = pd.DataFrame({'c1':data_imp2.T[0]})\n",
    "cat_enc"
   ]
  },
  {
   "cell_type": "code",
   "execution_count": 18,
   "metadata": {
    "datalore": {
     "hide_input_from_viewers": false,
     "hide_output_from_viewers": false,
     "type": "CODE"
    }
   },
   "outputs": [
    {
     "data": {
      "text/plain": [
       "array(['Aug-62', 'Mar-41', 'Oct-74', 'Mar-63', 'Nov-50', 'Nov-61',\n",
       "       'May-62', 'Sep-63', 'Jun-92', 'May-75', 'Sep-64', 'Apr-64',\n",
       "       'Jul-63', 'Jun-65', 'Jan-62', 'Mar-64', 'May-63', 'Jun-63',\n",
       "       'Oct-68', 'Jan-80', 'Mar-68', 'Feb-80', 'Feb-74', 'Jun-72',\n",
       "       'Oct-70', 'Aug-67', 'Oct-65', 'Jul-62', 'Dec-76', 'Mar-66',\n",
       "       'Jul-64', 'Oct-64', 'Nov-82', 'Jul-90', 'May-74', 'Jan-86',\n",
       "       'Nov-64', 'Mar-69', 'Nov-44', 'Oct-39', 'Aug-49', 'Oct-76',\n",
       "       'Jan-79', 'Dec-65', 'Sep-69', 'Jul-67', 'Oct-62', 'Feb-91',\n",
       "       'Dec-67', 'Nov-68', 'Feb-77', 'Aug-72', 'May-89', 'Aug-65',\n",
       "       'Aug-75', 'Mar-65', 'Aug-77', 'Aug-41', 'Jan-67', 'Sep-40',\n",
       "       'Apr-63', 'Sep-76', 'Apr-78', 'Jun-71', 'Dec-70', 'May-84',\n",
       "       'Nov-86', 'Nov-72', 'Dec-75', 'Jul-79', 'Jul-65', 'Apr-05',\n",
       "       'Jul-78', 'Jan-73', 'Dec-45', 'Jun-84', 'May-85', 'Sep-86',\n",
       "       'Dec-64', 'Dec-68', 'Nov-85', 'Apr-79', 'May-90', 'Mar-92',\n",
       "       'Feb-73', 'Dec-73', 'Nov-62', 'Sep-88', 'Jul-75', 'Jan-78',\n",
       "       'Oct-48', 'Aug-64', 'Jan-81', 'Mar-76', 'Aug-84', 'Nov-65',\n",
       "       'Feb-75', 'Apr-81', 'Feb-04', 'Oct-75', 'Jul-71', 'Aug-79',\n",
       "       'Feb-83', 'Mar-72', 'Sep-67', 'Nov-80', 'Nov-63', 'May-71',\n",
       "       'Aug-83', 'Sep-73', 'Dec-83', 'Sep-00', 'Oct-66', 'Sep-03',\n",
       "       'Aug-60', 'Apr-49', 'Jul-85', 'Oct-71', 'Jun-87', 'Nov-04',\n",
       "       'Oct-69', 'Mar-82', 'Feb-64', 'Mar-51', 'Nov-94', 'Jun-75',\n",
       "       'Oct-83', 'Oct-84', 'Sep-62', 'Mar-79', 'Nov-84', 'Jan-75',\n",
       "       'Jan-08', 'May-88', 'Jan-64', 'Jul-73', 'Oct-06', 'Aug-03',\n",
       "       'Jul-68', 'Mar-84', 'Jun-64', 'Nov-66', 'Feb-72', 'Nov-01',\n",
       "       'Feb-69', 'Nov-74', 'Apr-80', 'Feb-02', 'Feb-76', 'Nov-77',\n",
       "       'Dec-89', 'Mar-91', 'Jan-68', 'Apr-75', 'May-80', 'Nov-87',\n",
       "       'Feb-78', 'Oct-77', 'Jun-86', 'Jan-70', 'Jun-85', 'Nov-90',\n",
       "       'Dec-63', 'Jul-66', 'Jun-73', 'Jun-76', 'Oct-85', 'Jan-05',\n",
       "       'Sep-87', 'Jun-61', 'Nov-83', 'Jan-63', 'Feb-66', 'Oct-93',\n",
       "       'Oct-04', 'Jul-77', 'Apr-83', 'Mar-67', 'Jan-04', 'Aug-66',\n",
       "       'Dec-53', 'Nov-43', 'Feb-95', 'Dec-40', 'May-47', 'Feb-65',\n",
       "       'Dec-94', 'May-66', 'Jun-77', 'Mar-86', 'Aug-40', 'Jan-03',\n",
       "       'Nov-76', 'Jan-40', 'Jul-76', 'Aug-81', 'Oct-89', 'Dec-02',\n",
       "       'Jun-49', 'Apr-74', 'May-86', 'Jul-02', 'Apr-84', 'Jan-76',\n",
       "       'Sep-94', 'Aug-05', 'Sep-68', 'Oct-72', 'Apr-67', 'Oct-56',\n",
       "       'Apr-72', 'May-83', 'Mar-88', 'Jul-01', 'Oct-03', 'Aug-02',\n",
       "       'Oct-90', 'Apr-77', 'Jan-88', 'Jun-80', 'Jul-84', 'Sep-85',\n",
       "       'Oct-94', 'Sep-05', 'Aug-69', 'Feb-81', 'Mar-48', 'Jul-03',\n",
       "       'Mar-75', 'Nov-10', 'Mar-05', 'Jan-06', 'Nov-03', 'Aug-63',\n",
       "       'Sep-66', 'Sep-46', 'Sep-65', 'Jul-74', 'Nov-75', 'Apr-76',\n",
       "       'Dec-78', 'Jun-95', 'Sep-98', 'Aug-04', 'Feb-09', 'Jan-97',\n",
       "       'Sep-04', 'May-67', 'Dec-48', 'Aug-90', 'Aug-86', 'Nov-60',\n",
       "       'May-68', 'Dec-79', 'Apr-85', 'Oct-92', 'Feb-67', 'Feb-84',\n",
       "       'Aug-91', 'Jul-80', 'Oct-80', 'Mar-85', 'May-96', 'Oct-73',\n",
       "       'Aug-76', 'Jul-04', 'Mar-06', 'Oct-86', 'Aug-45', 'Nov-81',\n",
       "       'Oct-63', 'May-65', 'Feb-86', 'Jan-92', 'Apr-97', 'Jun-11',\n",
       "       'Sep-75', 'Apr-66', 'Feb-79', 'Dec-86', 'Jun-97', 'Oct-01',\n",
       "       'Jun-69', 'Apr-70', 'Aug-82', 'Oct-87', 'Jun-04', 'Nov-40',\n",
       "       'Aug-54', 'Mar-89', 'Jun-91', 'Aug-10', 'Sep-11', 'Dec-50',\n",
       "       'Jun-05', 'Jan-12', 'Oct-61', 'Aug-68', 'Sep-83', 'Jul-93',\n",
       "       'Nov-98', 'Oct-09', 'Jul-72', 'Oct-79', 'Sep-82', 'Sep-84',\n",
       "       'Sep-06', 'Mar-54', 'Apr-69', 'Nov-69', 'Jan-74', 'Jun-79',\n",
       "       'Sep-80', 'Mar-10', 'Feb-92', 'Dec-99', 'May-09', 'May-55',\n",
       "       'Dec-72', 'Oct-81', 'Jul-91', 'May-05', 'Dec-80', 'Oct-82',\n",
       "       'Feb-71', 'Feb-06', 'Jun-88', 'Jun-00', 'Dec-08', 'Sep-54',\n",
       "       'Feb-63', 'Sep-74', 'Nov-97', 'Sep-02', 'Nov-78', 'Aug-80',\n",
       "       'Apr-06', 'Aug-70', 'Sep-79', 'Mar-73', 'Sep-10', 'Jan-11',\n",
       "       'Mar-44', 'Jan-69', 'Jun-90', 'Sep-91', 'Apr-10', 'Nov-67',\n",
       "       'May-69', 'Jun-07', 'Aug-74', 'Aug-88', 'Nov-89', 'Dec-10',\n",
       "       'Jan-13', 'Oct-41', 'Jun-66', 'Jan-93', 'Dec-95', 'Jan-95',\n",
       "       'Dec-54', 'Sep-77', 'Aug-85', 'Aug-93', 'May-00', 'Jan-09',\n",
       "       'Aug-48', 'May-54', 'May-93', 'Mar-93', 'Feb-97', 'Aug-01',\n",
       "       'Jul-09', 'Jun-41', 'Nov-51', 'May-76', 'Mar-77', 'Jun-89',\n",
       "       'Oct-91', 'Jun-93', 'May-98', 'Oct-10', 'May-72', 'Aug-73',\n",
       "       'Dec-74', 'Jan-96', 'Nov-96', 'Apr-00', 'May-07', 'Jun-08',\n",
       "       'Feb-60', 'May-79', 'Dec-01', 'Jul-08', 'May-64', 'Jan-66',\n",
       "       'Jan-87', 'Aug-98', 'Dec-11', 'Dec-62', 'Sep-70', 'Oct-98',\n",
       "       'Feb-03', 'Nov-08', 'Jul-87', 'Feb-87', 'Oct-95', 'Mar-43',\n",
       "       'Nov-71', 'Jan-72', 'Feb-82', 'Jul-86', 'Sep-95', 'Mar-03',\n",
       "       'Dec-04', 'Aug-71', 'Apr-73', 'Jun-74', 'Dec-77', 'Sep-89',\n",
       "       'Feb-90', 'Apr-90', 'Dec-91', 'Jul-92', 'Mar-70', 'Jan-77',\n",
       "       'Jan-82', 'Jul-94', 'Sep-01', 'Jun-03', 'Aug-78', 'Jan-85',\n",
       "       'Feb-89', 'Aug-92', 'Dec-92', 'Nov-92', 'Mar-97', 'Apr-02',\n",
       "       'Feb-13', 'Aug-89', 'Nov-05', 'Jan-07', 'Apr-13', 'Nov-52',\n",
       "       'Jan-83', 'Oct-02', 'May-06', 'Jul-53', 'Oct-60', 'Dec-90',\n",
       "       'May-92', 'Mar-99', 'Feb-01', 'Feb-70', 'Jan-71', 'Jul-89',\n",
       "       'May-02', 'Jun-83', 'Mar-83', 'Dec-87', 'Mar-87', 'Nov-91',\n",
       "       'Mar-94', 'Mar-95', 'Oct-07', 'Mar-07', 'Jun-09', 'Feb-43',\n",
       "       'Jan-52', 'Oct-54', 'Sep-92', 'Mar-09', 'Nov-09', 'May-56',\n",
       "       'Mar-74', 'May-77', 'Mar-80', 'Nov-88', 'May-91', 'Feb-93',\n",
       "       'Mar-01', 'Oct-05', 'Sep-08', 'Apr-08', 'Apr-68', 'Dec-84',\n",
       "       'Jun-01', 'Feb-08', 'Feb-40', 'Sep-78', 'Nov-79', 'Apr-82',\n",
       "       'Apr-93', 'Aug-96', 'Jun-96', 'Jul-97', 'Mar-12', 'Mar-81',\n",
       "       'May-04', 'May-11', 'Aug-12', 'Mar-62', 'May-82', 'Dec-85',\n",
       "       'Dec-88', 'Aug-94', 'Jul-96', 'Aug-07', 'Mar-08', 'Oct-08',\n",
       "       'Feb-42', 'Oct-43', 'May-60', 'Jan-65', 'May-78', 'Apr-87',\n",
       "       'Oct-88', 'Jan-89', 'Apr-89', 'Dec-93', 'May-13', 'Jul-98',\n",
       "       'Aug-11', 'Jul-70', 'Dec-82', 'Jan-91', 'Dec-00', 'Dec-12',\n",
       "       'Apr-58', 'Jan-84', 'Sep-93', 'Aug-97', 'Aug-08', 'Sep-09',\n",
       "       'Apr-41', 'Sep-81', 'Jul-83', 'Apr-91', 'Apr-92', 'Apr-96',\n",
       "       'Jun-99', 'Mar-04', 'Jul-10', 'Aug-53', 'Jun-68', 'Dec-69',\n",
       "       'May-73', 'May-81', 'Apr-88', 'Sep-90', 'Apr-99', 'Jan-01',\n",
       "       'Feb-68', 'Mar-90', 'Jan-94', 'Nov-95', 'Dec-98', 'Jun-02',\n",
       "       'Feb-61', 'Jun-82', 'Apr-86', 'May-87', 'Feb-88', 'May-95',\n",
       "       'Sep-96', 'Jan-02', 'Mar-13', 'Jul-81', 'Jul-82', 'Jan-90',\n",
       "       'Jun-94', 'Jan-99', 'Jun-06', 'Apr-07', 'Jul-11', 'Oct-11',\n",
       "       'Apr-40', 'Apr-42', 'Jul-43', 'Oct-52', 'Sep-72', 'Feb-85',\n",
       "       'Mar-96', 'Jul-06', 'Feb-07', 'May-08', 'Mar-11', 'Mar-40',\n",
       "       'Jan-51', 'Jul-69', 'Oct-97', 'Mar-00', 'Apr-03', 'Dec-06',\n",
       "       'Oct-12', 'Dec-43', 'Dec-71', 'Nov-73', 'May-94', 'Jul-00',\n",
       "       'Aug-00', 'Sep-41', 'Mar-55', 'Jun-81', 'Nov-93', 'Feb-98',\n",
       "       'Aug-99', 'Sep-07', 'Jan-10', 'Jun-10', 'May-51', 'Feb-51',\n",
       "       'Feb-94', 'Jul-95', 'Aug-95', 'Feb-96', 'Feb-99', 'Aug-06',\n",
       "       'Apr-09', 'May-10', 'Jun-42', 'Dec-81', 'Apr-98', 'Jun-98',\n",
       "       'Jul-99', 'Nov-00', 'Feb-05', 'Dec-41', 'Dec-42', 'Sep-43',\n",
       "       'Apr-54', 'Feb-55', 'Apr-65', 'May-70', 'Sep-97', 'May-99',\n",
       "       'Sep-99', 'Jan-00', 'Dec-03', 'Mar-45', 'Apr-48', 'Mar-53',\n",
       "       'Sep-55', 'Mar-78', 'Jul-88', 'Apr-94', 'Nov-07', 'Apr-12',\n",
       "       'Nov-49', 'Apr-53', 'Nov-55', 'May-61', 'Jul-05', 'Nov-06',\n",
       "       'Apr-11', 'Nov-11', 'Jun-12', 'Feb-12', 'Apr-43', 'Jun-47',\n",
       "       'Mar-61', 'Apr-61', 'Mar-71', 'Oct-78', 'Oct-96', 'Mar-98',\n",
       "       'Oct-99', 'Mar-02', 'Dec-09', 'Nov-41', 'Mar-47', 'May-53',\n",
       "       'Jun-60', 'Sep-61', 'Jun-78', 'Aug-87', 'Nov-99', 'Feb-00',\n",
       "       'May-03', 'Dec-05', 'Feb-11', 'Jun-40', 'May-42', 'Jan-42',\n",
       "       'Nov-46', 'Jan-49', 'Jul-54', 'Jan-61', 'Jun-70', 'Dec-96',\n",
       "       'Dec-97', 'Oct-00', 'Apr-04', 'Aug-09', 'Feb-10', 'Oct-40',\n",
       "       'Dec-46', 'Mar-49', 'Jun-51', 'Feb-53', 'Sep-56', 'May-01',\n",
       "       'Nov-02', 'Sep-12', 'Jul-12', 'Jul-42', 'May-48', 'Jun-50',\n",
       "       'Jul-56', 'Dec-56', 'Dec-60', 'Jun-67', 'Oct-67', 'Nov-70',\n",
       "       'Jul-07', 'Nov-12', 'Oct-49', 'Jul-50', 'Jan-53', 'Apr-60',\n",
       "       'Aug-61', 'Feb-62', 'Apr-95', 'May-97', 'Jan-98', 'Apr-01',\n",
       "       'May-12', 'Dec-39', 'Mar-42', 'Dec-44', 'Jan-47', 'Jun-53',\n",
       "       'Nov-54', 'Jun-55', 'Mar-60', 'Jan-60', 'Apr-62', 'Dec-07',\n",
       "       'Jun-13', 'May-40', 'May-41', 'Jul-51', 'Jul-57', 'Feb-59',\n",
       "       'Sep-60', 'Dec-61', 'Jul-61', 'Jul-40', 'Feb-41', 'Aug-42',\n",
       "       'Jan-43', 'Jul-44', 'Jun-45', 'Jul-45', 'Nov-48', 'Feb-52',\n",
       "       'Dec-52', 'Aug-52', 'Apr-52', 'Jun-54', 'Feb-54', 'Jan-54',\n",
       "       'Apr-55', 'Jun-57', 'Jun-58', 'Nov-59', 'Jul-59', 'Jul-60',\n",
       "       'Dec-66', 'Sep-71', 'Apr-71', 'Jul-41', 'Jan-41', 'Sep-42',\n",
       "       'Nov-42', 'Oct-42', 'Jun-43', 'May-43', 'Aug-43', 'Jun-44',\n",
       "       'Sep-44', 'Oct-44', 'May-44', 'Apr-44', 'Feb-44', 'Jan-44',\n",
       "       'Aug-44', 'Sep-45', 'Apr-45', 'Oct-45', 'Jan-45', 'Nov-45',\n",
       "       'Feb-45', 'Feb-46', 'Mar-46', 'Jan-46', 'Aug-46', 'Jul-46',\n",
       "       'May-46', 'Jun-46', 'Apr-46', 'Oct-47', 'Jul-47', 'Sep-47',\n",
       "       'Dec-47', 'Jul-48', 'Feb-48', 'Jun-48', 'Sep-48', 'Jan-48',\n",
       "       'Feb-49', 'Jul-49', 'May-49', 'Sep-49', 'May-50', 'Mar-50',\n",
       "       'Feb-50', 'Apr-50', 'Sep-51', 'Apr-51', 'Aug-51', 'Dec-51',\n",
       "       'Oct-51', 'Jul-52', 'Nov-53', 'Oct-55', 'Jan-55', 'Apr-57',\n",
       "       'Feb-57', 'Sep-59', 'Jun-62', 'Mar-56'], dtype=object)"
      ]
     },
     "execution_count": 18,
     "metadata": {},
     "output_type": "execute_result"
    }
   ],
   "source": [
    "cat_enc['c1'].unique()"
   ]
  },
  {
   "cell_type": "code",
   "execution_count": 19,
   "metadata": {
    "datalore": {
     "hide_input_from_viewers": false,
     "hide_output_from_viewers": false,
     "type": "CODE"
    }
   },
   "outputs": [],
   "source": [
    "le = LabelEncoder()\n",
    "cat_enc_le = le.fit_transform(cat_enc['c1'])"
   ]
  },
  {
   "cell_type": "code",
   "execution_count": 20,
   "metadata": {
    "datalore": {
     "hide_input_from_viewers": false,
     "hide_output_from_viewers": false,
     "type": "CODE"
    }
   },
   "outputs": [
    {
     "data": {
      "text/plain": [
       "array(['Apr-00', 'Apr-01', 'Apr-02', 'Apr-03', 'Apr-04', 'Apr-05',\n",
       "       'Apr-06', 'Apr-07', 'Apr-08', 'Apr-09', 'Apr-10', 'Apr-11',\n",
       "       'Apr-12', 'Apr-13', 'Apr-40', 'Apr-41', 'Apr-42', 'Apr-43',\n",
       "       'Apr-44', 'Apr-45', 'Apr-46', 'Apr-48', 'Apr-49', 'Apr-50',\n",
       "       'Apr-51', 'Apr-52', 'Apr-53', 'Apr-54', 'Apr-55', 'Apr-57',\n",
       "       'Apr-58', 'Apr-60', 'Apr-61', 'Apr-62', 'Apr-63', 'Apr-64',\n",
       "       'Apr-65', 'Apr-66', 'Apr-67', 'Apr-68', 'Apr-69', 'Apr-70',\n",
       "       'Apr-71', 'Apr-72', 'Apr-73', 'Apr-74', 'Apr-75', 'Apr-76',\n",
       "       'Apr-77', 'Apr-78', 'Apr-79', 'Apr-80', 'Apr-81', 'Apr-82',\n",
       "       'Apr-83', 'Apr-84', 'Apr-85', 'Apr-86', 'Apr-87', 'Apr-88',\n",
       "       'Apr-89', 'Apr-90', 'Apr-91', 'Apr-92', 'Apr-93', 'Apr-94',\n",
       "       'Apr-95', 'Apr-96', 'Apr-97', 'Apr-98', 'Apr-99', 'Aug-00',\n",
       "       'Aug-01', 'Aug-02', 'Aug-03', 'Aug-04', 'Aug-05', 'Aug-06',\n",
       "       'Aug-07', 'Aug-08', 'Aug-09', 'Aug-10', 'Aug-11', 'Aug-12',\n",
       "       'Aug-40', 'Aug-41', 'Aug-42', 'Aug-43', 'Aug-44', 'Aug-45',\n",
       "       'Aug-46', 'Aug-48', 'Aug-49', 'Aug-51', 'Aug-52', 'Aug-53',\n",
       "       'Aug-54', 'Aug-60', 'Aug-61', 'Aug-62', 'Aug-63', 'Aug-64',\n",
       "       'Aug-65', 'Aug-66', 'Aug-67', 'Aug-68', 'Aug-69', 'Aug-70',\n",
       "       'Aug-71', 'Aug-72', 'Aug-73', 'Aug-74', 'Aug-75', 'Aug-76',\n",
       "       'Aug-77', 'Aug-78', 'Aug-79', 'Aug-80', 'Aug-81', 'Aug-82',\n",
       "       'Aug-83', 'Aug-84', 'Aug-85', 'Aug-86', 'Aug-87', 'Aug-88',\n",
       "       'Aug-89', 'Aug-90', 'Aug-91', 'Aug-92', 'Aug-93', 'Aug-94',\n",
       "       'Aug-95', 'Aug-96', 'Aug-97', 'Aug-98', 'Aug-99', 'Dec-00',\n",
       "       'Dec-01', 'Dec-02', 'Dec-03', 'Dec-04', 'Dec-05', 'Dec-06',\n",
       "       'Dec-07', 'Dec-08', 'Dec-09', 'Dec-10', 'Dec-11', 'Dec-12',\n",
       "       'Dec-39', 'Dec-40', 'Dec-41', 'Dec-42', 'Dec-43', 'Dec-44',\n",
       "       'Dec-45', 'Dec-46', 'Dec-47', 'Dec-48', 'Dec-50', 'Dec-51',\n",
       "       'Dec-52', 'Dec-53', 'Dec-54', 'Dec-56', 'Dec-60', 'Dec-61',\n",
       "       'Dec-62', 'Dec-63', 'Dec-64', 'Dec-65', 'Dec-66', 'Dec-67',\n",
       "       'Dec-68', 'Dec-69', 'Dec-70', 'Dec-71', 'Dec-72', 'Dec-73',\n",
       "       'Dec-74', 'Dec-75', 'Dec-76', 'Dec-77', 'Dec-78', 'Dec-79',\n",
       "       'Dec-80', 'Dec-81', 'Dec-82', 'Dec-83', 'Dec-84', 'Dec-85',\n",
       "       'Dec-86', 'Dec-87', 'Dec-88', 'Dec-89', 'Dec-90', 'Dec-91',\n",
       "       'Dec-92', 'Dec-93', 'Dec-94', 'Dec-95', 'Dec-96', 'Dec-97',\n",
       "       'Dec-98', 'Dec-99', 'Feb-00', 'Feb-01', 'Feb-02', 'Feb-03',\n",
       "       'Feb-04', 'Feb-05', 'Feb-06', 'Feb-07', 'Feb-08', 'Feb-09',\n",
       "       'Feb-10', 'Feb-11', 'Feb-12', 'Feb-13', 'Feb-40', 'Feb-41',\n",
       "       'Feb-42', 'Feb-43', 'Feb-44', 'Feb-45', 'Feb-46', 'Feb-48',\n",
       "       'Feb-49', 'Feb-50', 'Feb-51', 'Feb-52', 'Feb-53', 'Feb-54',\n",
       "       'Feb-55', 'Feb-57', 'Feb-59', 'Feb-60', 'Feb-61', 'Feb-62',\n",
       "       'Feb-63', 'Feb-64', 'Feb-65', 'Feb-66', 'Feb-67', 'Feb-68',\n",
       "       'Feb-69', 'Feb-70', 'Feb-71', 'Feb-72', 'Feb-73', 'Feb-74',\n",
       "       'Feb-75', 'Feb-76', 'Feb-77', 'Feb-78', 'Feb-79', 'Feb-80',\n",
       "       'Feb-81', 'Feb-82', 'Feb-83', 'Feb-84', 'Feb-85', 'Feb-86',\n",
       "       'Feb-87', 'Feb-88', 'Feb-89', 'Feb-90', 'Feb-91', 'Feb-92',\n",
       "       'Feb-93', 'Feb-94', 'Feb-95', 'Feb-96', 'Feb-97', 'Feb-98',\n",
       "       'Feb-99', 'Jan-00', 'Jan-01', 'Jan-02', 'Jan-03', 'Jan-04',\n",
       "       'Jan-05', 'Jan-06', 'Jan-07', 'Jan-08', 'Jan-09', 'Jan-10',\n",
       "       'Jan-11', 'Jan-12', 'Jan-13', 'Jan-40', 'Jan-41', 'Jan-42',\n",
       "       'Jan-43', 'Jan-44', 'Jan-45', 'Jan-46', 'Jan-47', 'Jan-48',\n",
       "       'Jan-49', 'Jan-51', 'Jan-52', 'Jan-53', 'Jan-54', 'Jan-55',\n",
       "       'Jan-60', 'Jan-61', 'Jan-62', 'Jan-63', 'Jan-64', 'Jan-65',\n",
       "       'Jan-66', 'Jan-67', 'Jan-68', 'Jan-69', 'Jan-70', 'Jan-71',\n",
       "       'Jan-72', 'Jan-73', 'Jan-74', 'Jan-75', 'Jan-76', 'Jan-77',\n",
       "       'Jan-78', 'Jan-79', 'Jan-80', 'Jan-81', 'Jan-82', 'Jan-83',\n",
       "       'Jan-84', 'Jan-85', 'Jan-86', 'Jan-87', 'Jan-88', 'Jan-89',\n",
       "       'Jan-90', 'Jan-91', 'Jan-92', 'Jan-93', 'Jan-94', 'Jan-95',\n",
       "       'Jan-96', 'Jan-97', 'Jan-98', 'Jan-99', 'Jul-00', 'Jul-01',\n",
       "       'Jul-02', 'Jul-03', 'Jul-04', 'Jul-05', 'Jul-06', 'Jul-07',\n",
       "       'Jul-08', 'Jul-09', 'Jul-10', 'Jul-11', 'Jul-12', 'Jul-40',\n",
       "       'Jul-41', 'Jul-42', 'Jul-43', 'Jul-44', 'Jul-45', 'Jul-46',\n",
       "       'Jul-47', 'Jul-48', 'Jul-49', 'Jul-50', 'Jul-51', 'Jul-52',\n",
       "       'Jul-53', 'Jul-54', 'Jul-56', 'Jul-57', 'Jul-59', 'Jul-60',\n",
       "       'Jul-61', 'Jul-62', 'Jul-63', 'Jul-64', 'Jul-65', 'Jul-66',\n",
       "       'Jul-67', 'Jul-68', 'Jul-69', 'Jul-70', 'Jul-71', 'Jul-72',\n",
       "       'Jul-73', 'Jul-74', 'Jul-75', 'Jul-76', 'Jul-77', 'Jul-78',\n",
       "       'Jul-79', 'Jul-80', 'Jul-81', 'Jul-82', 'Jul-83', 'Jul-84',\n",
       "       'Jul-85', 'Jul-86', 'Jul-87', 'Jul-88', 'Jul-89', 'Jul-90',\n",
       "       'Jul-91', 'Jul-92', 'Jul-93', 'Jul-94', 'Jul-95', 'Jul-96',\n",
       "       'Jul-97', 'Jul-98', 'Jul-99', 'Jun-00', 'Jun-01', 'Jun-02',\n",
       "       'Jun-03', 'Jun-04', 'Jun-05', 'Jun-06', 'Jun-07', 'Jun-08',\n",
       "       'Jun-09', 'Jun-10', 'Jun-11', 'Jun-12', 'Jun-13', 'Jun-40',\n",
       "       'Jun-41', 'Jun-42', 'Jun-43', 'Jun-44', 'Jun-45', 'Jun-46',\n",
       "       'Jun-47', 'Jun-48', 'Jun-49', 'Jun-50', 'Jun-51', 'Jun-53',\n",
       "       'Jun-54', 'Jun-55', 'Jun-57', 'Jun-58', 'Jun-60', 'Jun-61',\n",
       "       'Jun-62', 'Jun-63', 'Jun-64', 'Jun-65', 'Jun-66', 'Jun-67',\n",
       "       'Jun-68', 'Jun-69', 'Jun-70', 'Jun-71', 'Jun-72', 'Jun-73',\n",
       "       'Jun-74', 'Jun-75', 'Jun-76', 'Jun-77', 'Jun-78', 'Jun-79',\n",
       "       'Jun-80', 'Jun-81', 'Jun-82', 'Jun-83', 'Jun-84', 'Jun-85',\n",
       "       'Jun-86', 'Jun-87', 'Jun-88', 'Jun-89', 'Jun-90', 'Jun-91',\n",
       "       'Jun-92', 'Jun-93', 'Jun-94', 'Jun-95', 'Jun-96', 'Jun-97',\n",
       "       'Jun-98', 'Jun-99', 'Mar-00', 'Mar-01', 'Mar-02', 'Mar-03',\n",
       "       'Mar-04', 'Mar-05', 'Mar-06', 'Mar-07', 'Mar-08', 'Mar-09',\n",
       "       'Mar-10', 'Mar-11', 'Mar-12', 'Mar-13', 'Mar-40', 'Mar-41',\n",
       "       'Mar-42', 'Mar-43', 'Mar-44', 'Mar-45', 'Mar-46', 'Mar-47',\n",
       "       'Mar-48', 'Mar-49', 'Mar-50', 'Mar-51', 'Mar-53', 'Mar-54',\n",
       "       'Mar-55', 'Mar-56', 'Mar-60', 'Mar-61', 'Mar-62', 'Mar-63',\n",
       "       'Mar-64', 'Mar-65', 'Mar-66', 'Mar-67', 'Mar-68', 'Mar-69',\n",
       "       'Mar-70', 'Mar-71', 'Mar-72', 'Mar-73', 'Mar-74', 'Mar-75',\n",
       "       'Mar-76', 'Mar-77', 'Mar-78', 'Mar-79', 'Mar-80', 'Mar-81',\n",
       "       'Mar-82', 'Mar-83', 'Mar-84', 'Mar-85', 'Mar-86', 'Mar-87',\n",
       "       'Mar-88', 'Mar-89', 'Mar-90', 'Mar-91', 'Mar-92', 'Mar-93',\n",
       "       'Mar-94', 'Mar-95', 'Mar-96', 'Mar-97', 'Mar-98', 'Mar-99',\n",
       "       'May-00', 'May-01', 'May-02', 'May-03', 'May-04', 'May-05',\n",
       "       'May-06', 'May-07', 'May-08', 'May-09', 'May-10', 'May-11',\n",
       "       'May-12', 'May-13', 'May-40', 'May-41', 'May-42', 'May-43',\n",
       "       'May-44', 'May-46', 'May-47', 'May-48', 'May-49', 'May-50',\n",
       "       'May-51', 'May-53', 'May-54', 'May-55', 'May-56', 'May-60',\n",
       "       'May-61', 'May-62', 'May-63', 'May-64', 'May-65', 'May-66',\n",
       "       'May-67', 'May-68', 'May-69', 'May-70', 'May-71', 'May-72',\n",
       "       'May-73', 'May-74', 'May-75', 'May-76', 'May-77', 'May-78',\n",
       "       'May-79', 'May-80', 'May-81', 'May-82', 'May-83', 'May-84',\n",
       "       'May-85', 'May-86', 'May-87', 'May-88', 'May-89', 'May-90',\n",
       "       'May-91', 'May-92', 'May-93', 'May-94', 'May-95', 'May-96',\n",
       "       'May-97', 'May-98', 'May-99', 'Nov-00', 'Nov-01', 'Nov-02',\n",
       "       'Nov-03', 'Nov-04', 'Nov-05', 'Nov-06', 'Nov-07', 'Nov-08',\n",
       "       'Nov-09', 'Nov-10', 'Nov-11', 'Nov-12', 'Nov-40', 'Nov-41',\n",
       "       'Nov-42', 'Nov-43', 'Nov-44', 'Nov-45', 'Nov-46', 'Nov-48',\n",
       "       'Nov-49', 'Nov-50', 'Nov-51', 'Nov-52', 'Nov-53', 'Nov-54',\n",
       "       'Nov-55', 'Nov-59', 'Nov-60', 'Nov-61', 'Nov-62', 'Nov-63',\n",
       "       'Nov-64', 'Nov-65', 'Nov-66', 'Nov-67', 'Nov-68', 'Nov-69',\n",
       "       'Nov-70', 'Nov-71', 'Nov-72', 'Nov-73', 'Nov-74', 'Nov-75',\n",
       "       'Nov-76', 'Nov-77', 'Nov-78', 'Nov-79', 'Nov-80', 'Nov-81',\n",
       "       'Nov-82', 'Nov-83', 'Nov-84', 'Nov-85', 'Nov-86', 'Nov-87',\n",
       "       'Nov-88', 'Nov-89', 'Nov-90', 'Nov-91', 'Nov-92', 'Nov-93',\n",
       "       'Nov-94', 'Nov-95', 'Nov-96', 'Nov-97', 'Nov-98', 'Nov-99',\n",
       "       'Oct-00', 'Oct-01', 'Oct-02', 'Oct-03', 'Oct-04', 'Oct-05',\n",
       "       'Oct-06', 'Oct-07', 'Oct-08', 'Oct-09', 'Oct-10', 'Oct-11',\n",
       "       'Oct-12', 'Oct-39', 'Oct-40', 'Oct-41', 'Oct-42', 'Oct-43',\n",
       "       'Oct-44', 'Oct-45', 'Oct-47', 'Oct-48', 'Oct-49', 'Oct-51',\n",
       "       'Oct-52', 'Oct-54', 'Oct-55', 'Oct-56', 'Oct-60', 'Oct-61',\n",
       "       'Oct-62', 'Oct-63', 'Oct-64', 'Oct-65', 'Oct-66', 'Oct-67',\n",
       "       'Oct-68', 'Oct-69', 'Oct-70', 'Oct-71', 'Oct-72', 'Oct-73',\n",
       "       'Oct-74', 'Oct-75', 'Oct-76', 'Oct-77', 'Oct-78', 'Oct-79',\n",
       "       'Oct-80', 'Oct-81', 'Oct-82', 'Oct-83', 'Oct-84', 'Oct-85',\n",
       "       'Oct-86', 'Oct-87', 'Oct-88', 'Oct-89', 'Oct-90', 'Oct-91',\n",
       "       'Oct-92', 'Oct-93', 'Oct-94', 'Oct-95', 'Oct-96', 'Oct-97',\n",
       "       'Oct-98', 'Oct-99', 'Sep-00', 'Sep-01', 'Sep-02', 'Sep-03',\n",
       "       'Sep-04', 'Sep-05', 'Sep-06', 'Sep-07', 'Sep-08', 'Sep-09',\n",
       "       'Sep-10', 'Sep-11', 'Sep-12', 'Sep-40', 'Sep-41', 'Sep-42',\n",
       "       'Sep-43', 'Sep-44', 'Sep-45', 'Sep-46', 'Sep-47', 'Sep-48',\n",
       "       'Sep-49', 'Sep-51', 'Sep-54', 'Sep-55', 'Sep-56', 'Sep-59',\n",
       "       'Sep-60', 'Sep-61', 'Sep-62', 'Sep-63', 'Sep-64', 'Sep-65',\n",
       "       'Sep-66', 'Sep-67', 'Sep-68', 'Sep-69', 'Sep-70', 'Sep-71',\n",
       "       'Sep-72', 'Sep-73', 'Sep-74', 'Sep-75', 'Sep-76', 'Sep-77',\n",
       "       'Sep-78', 'Sep-79', 'Sep-80', 'Sep-81', 'Sep-82', 'Sep-83',\n",
       "       'Sep-84', 'Sep-85', 'Sep-86', 'Sep-87', 'Sep-88', 'Sep-89',\n",
       "       'Sep-90', 'Sep-91', 'Sep-92', 'Sep-93', 'Sep-94', 'Sep-95',\n",
       "       'Sep-96', 'Sep-97', 'Sep-98', 'Sep-99'], dtype=object)"
      ]
     },
     "execution_count": 20,
     "metadata": {},
     "output_type": "execute_result"
    }
   ],
   "source": [
    "le.classes_"
   ]
  },
  {
   "cell_type": "code",
   "execution_count": 21,
   "metadata": {
    "datalore": {
     "hide_input_from_viewers": false,
     "hide_output_from_viewers": false,
     "type": "CODE"
    }
   },
   "outputs": [
    {
     "data": {
      "text/plain": [
       "array([  0,   1,   2,   3,   4,   5,   6,   7,   8,   9,  10,  11,  12,\n",
       "        13,  14,  15,  16,  17,  18,  19,  20,  21,  22,  23,  24,  25,\n",
       "        26,  27,  28,  29,  30,  31,  32,  33,  34,  35,  36,  37,  38,\n",
       "        39,  40,  41,  42,  43,  44,  45,  46,  47,  48,  49,  50,  51,\n",
       "        52,  53,  54,  55,  56,  57,  58,  59,  60,  61,  62,  63,  64,\n",
       "        65,  66,  67,  68,  69,  70,  71,  72,  73,  74,  75,  76,  77,\n",
       "        78,  79,  80,  81,  82,  83,  84,  85,  86,  87,  88,  89,  90,\n",
       "        91,  92,  93,  94,  95,  96,  97,  98,  99, 100, 101, 102, 103,\n",
       "       104, 105, 106, 107, 108, 109, 110, 111, 112, 113, 114, 115, 116,\n",
       "       117, 118, 119, 120, 121, 122, 123, 124, 125, 126, 127, 128, 129,\n",
       "       130, 131, 132, 133, 134, 135, 136, 137, 138, 139, 140, 141, 142,\n",
       "       143, 144, 145, 146, 147, 148, 149, 150, 151, 152, 153, 154, 155,\n",
       "       156, 157, 158, 159, 160, 161, 162, 163, 164, 165, 166, 167, 168,\n",
       "       169, 170, 171, 172, 173, 174, 175, 176, 177, 178, 179, 180, 181,\n",
       "       182, 183, 184, 185, 186, 187, 188, 189, 190, 191, 192, 193, 194,\n",
       "       195, 196, 197, 198, 199, 200, 201, 202, 203, 204, 205, 206, 207,\n",
       "       208, 209, 210, 211, 212, 213, 214, 215, 216, 217, 218, 219, 220,\n",
       "       221, 222, 223, 224, 225, 226, 227, 228, 229, 230, 231, 232, 233,\n",
       "       234, 235, 236, 237, 238, 239, 240, 241, 242, 243, 244, 245, 246,\n",
       "       247, 248, 249, 250, 251, 252, 253, 254, 255, 256, 257, 258, 259,\n",
       "       260, 261, 262, 263, 264, 265, 266, 267, 268, 269, 270, 271, 272,\n",
       "       273, 274, 275, 276, 277, 278, 279, 280, 281, 282, 283, 284, 285,\n",
       "       286, 287, 288, 289, 290, 291, 292, 293, 294, 295, 296, 297, 298,\n",
       "       299, 300, 301, 302, 303, 304, 305, 306, 307, 308, 309, 310, 311,\n",
       "       312, 313, 314, 315, 316, 317, 318, 319, 320, 321, 322, 323, 324,\n",
       "       325, 326, 327, 328, 329, 330, 331, 332, 333, 334, 335, 336, 337,\n",
       "       338, 339, 340, 341, 342, 343, 344, 345, 346, 347, 348, 349, 350,\n",
       "       351, 352, 353, 354, 355, 356, 357, 358, 359, 360, 361, 362, 363,\n",
       "       364, 365, 366, 367, 368, 369, 370, 371, 372, 373, 374, 375, 376,\n",
       "       377, 378, 379, 380, 381, 382, 383, 384, 385, 386, 387, 388, 389,\n",
       "       390, 391, 392, 393, 394, 395, 396, 397, 398, 399, 400, 401, 402,\n",
       "       403, 404, 405, 406, 407, 408, 409, 410, 411, 412, 413, 414, 415,\n",
       "       416, 417, 418, 419, 420, 421, 422, 423, 424, 425, 426, 427, 428,\n",
       "       429, 430, 431, 432, 433, 434, 435, 436, 437, 438, 439, 440, 441,\n",
       "       442, 443, 444, 445, 446, 447, 448, 449, 450, 451, 452, 453, 454,\n",
       "       455, 456, 457, 458, 459, 460, 461, 462, 463, 464, 465, 466, 467,\n",
       "       468, 469, 470, 471, 472, 473, 474, 475, 476, 477, 478, 479, 480,\n",
       "       481, 482, 483, 484, 485, 486, 487, 488, 489, 490, 491, 492, 493,\n",
       "       494, 495, 496, 497, 498, 499, 500, 501, 502, 503, 504, 505, 506,\n",
       "       507, 508, 509, 510, 511, 512, 513, 514, 515, 516, 517, 518, 519,\n",
       "       520, 521, 522, 523, 524, 525, 526, 527, 528, 529, 530, 531, 532,\n",
       "       533, 534, 535, 536, 537, 538, 539, 540, 541, 542, 543, 544, 545,\n",
       "       546, 547, 548, 549, 550, 551, 552, 553, 554, 555, 556, 557, 558,\n",
       "       559, 560, 561, 562, 563, 564, 565, 566, 567, 568, 569, 570, 571,\n",
       "       572, 573, 574, 575, 576, 577, 578, 579, 580, 581, 582, 583, 584,\n",
       "       585, 586, 587, 588, 589, 590, 591, 592, 593, 594, 595, 596, 597,\n",
       "       598, 599, 600, 601, 602, 603, 604, 605, 606, 607, 608, 609, 610,\n",
       "       611, 612, 613, 614, 615, 616, 617, 618, 619, 620, 621, 622, 623,\n",
       "       624, 625, 626, 627, 628, 629, 630, 631, 632, 633, 634, 635, 636,\n",
       "       637, 638, 639, 640, 641, 642, 643, 644, 645, 646, 647, 648, 649,\n",
       "       650, 651, 652, 653, 654, 655, 656, 657, 658, 659, 660, 661, 662,\n",
       "       663, 664, 665, 666, 667, 668, 669, 670, 671, 672, 673, 674, 675,\n",
       "       676, 677, 678, 679, 680, 681, 682, 683, 684, 685, 686, 687, 688,\n",
       "       689, 690, 691, 692, 693, 694, 695, 696, 697, 698, 699, 700, 701,\n",
       "       702, 703, 704, 705, 706, 707, 708, 709, 710, 711, 712, 713, 714,\n",
       "       715, 716, 717, 718, 719, 720, 721, 722, 723, 724, 725, 726, 727,\n",
       "       728, 729, 730, 731, 732, 733, 734, 735, 736, 737, 738, 739, 740,\n",
       "       741, 742, 743, 744, 745, 746, 747, 748, 749, 750, 751, 752, 753,\n",
       "       754, 755, 756, 757, 758, 759, 760, 761, 762, 763, 764, 765, 766,\n",
       "       767, 768, 769, 770, 771, 772, 773, 774, 775, 776, 777, 778, 779,\n",
       "       780, 781, 782, 783, 784, 785, 786, 787, 788, 789, 790, 791, 792,\n",
       "       793, 794, 795, 796, 797, 798, 799, 800, 801, 802, 803, 804, 805,\n",
       "       806, 807, 808, 809, 810, 811, 812, 813, 814, 815, 816, 817, 818,\n",
       "       819, 820, 821, 822, 823, 824, 825, 826, 827, 828, 829, 830, 831])"
      ]
     },
     "execution_count": 21,
     "metadata": {},
     "output_type": "execute_result"
    }
   ],
   "source": [
    "np.unique(cat_enc_le)"
   ]
  },
  {
   "cell_type": "markdown",
   "metadata": {
    "datalore": {
     "hide_input_from_viewers": false,
     "hide_output_from_viewers": false,
     "type": "MD"
    }
   },
   "source": [
    "Для этой колонки однозначно не пододет One-Hot encoding, так как в данных изначально уже есть порядок и присутсует очень много уникальных значений. Для метода One-Hot encoding лучше подойжет колонка SEX "
   ]
  },
  {
   "cell_type": "code",
   "execution_count": 22,
   "metadata": {
    "datalore": {
     "hide_input_from_viewers": false,
     "hide_output_from_viewers": false,
     "type": "CODE"
    }
   },
   "outputs": [
    {
     "data": {
      "text/html": [
       "<div>\n",
       "<style scoped>\n",
       "    .dataframe tbody tr th:only-of-type {\n",
       "        vertical-align: middle;\n",
       "    }\n",
       "\n",
       "    .dataframe tbody tr th {\n",
       "        vertical-align: top;\n",
       "    }\n",
       "\n",
       "    .dataframe thead th {\n",
       "        text-align: right;\n",
       "    }\n",
       "</style>\n",
       "<table border=\"1\" class=\"dataframe\">\n",
       "  <thead>\n",
       "    <tr style=\"text-align: right;\">\n",
       "      <th></th>\n",
       "      <th>SEX</th>\n",
       "    </tr>\n",
       "  </thead>\n",
       "  <tbody>\n",
       "    <tr>\n",
       "      <th>0</th>\n",
       "      <td>Male Characters</td>\n",
       "    </tr>\n",
       "    <tr>\n",
       "      <th>1</th>\n",
       "      <td>Male Characters</td>\n",
       "    </tr>\n",
       "    <tr>\n",
       "      <th>2</th>\n",
       "      <td>Male Characters</td>\n",
       "    </tr>\n",
       "    <tr>\n",
       "      <th>3</th>\n",
       "      <td>Male Characters</td>\n",
       "    </tr>\n",
       "    <tr>\n",
       "      <th>4</th>\n",
       "      <td>Male Characters</td>\n",
       "    </tr>\n",
       "  </tbody>\n",
       "</table>\n",
       "</div>"
      ],
      "text/plain": [
       "               SEX\n",
       "0  Male Characters\n",
       "1  Male Characters\n",
       "2  Male Characters\n",
       "3  Male Characters\n",
       "4  Male Characters"
      ]
     },
     "execution_count": 22,
     "metadata": {},
     "output_type": "execute_result"
    }
   ],
   "source": [
    "#Для начала заполним пропущенные данные \n",
    "cat_temp_data2 = data[['SEX']]\n",
    "cat_temp_data2.head()"
   ]
  },
  {
   "cell_type": "code",
   "execution_count": 23,
   "metadata": {
    "datalore": {
     "hide_input_from_viewers": false,
     "hide_output_from_viewers": false,
     "type": "CODE"
    }
   },
   "outputs": [
    {
     "data": {
      "text/plain": [
       "array(['Male Characters', 'Female Characters', 'Genderfluid Characters',\n",
       "       'Agender Characters', nan], dtype=object)"
      ]
     },
     "execution_count": 23,
     "metadata": {},
     "output_type": "execute_result"
    }
   ],
   "source": [
    "cat_temp_data2['SEX'].unique()"
   ]
  },
  {
   "cell_type": "code",
   "execution_count": 24,
   "metadata": {
    "datalore": {
     "hide_input_from_viewers": false,
     "hide_output_from_viewers": false,
     "type": "CODE"
    }
   },
   "outputs": [
    {
     "data": {
      "text/plain": [
       "array([['Male Characters'],\n",
       "       ['Male Characters'],\n",
       "       ['Male Characters'],\n",
       "       ...,\n",
       "       ['Male Characters'],\n",
       "       ['Male Characters'],\n",
       "       ['Male Characters']], dtype=object)"
      ]
     },
     "execution_count": 24,
     "metadata": {},
     "output_type": "execute_result"
    }
   ],
   "source": [
    "# Импьютация наиболее частыми значениями\n",
    "imp4 = SimpleImputer(missing_values=np.nan, strategy='most_frequent')\n",
    "data_imp4 = imp4.fit_transform(cat_temp_data2)\n",
    "data_imp4"
   ]
  },
  {
   "cell_type": "code",
   "execution_count": 25,
   "metadata": {
    "datalore": {
     "hide_input_from_viewers": false,
     "hide_output_from_viewers": false,
     "type": "CODE"
    }
   },
   "outputs": [
    {
     "data": {
      "text/html": [
       "<div>\n",
       "<style scoped>\n",
       "    .dataframe tbody tr th:only-of-type {\n",
       "        vertical-align: middle;\n",
       "    }\n",
       "\n",
       "    .dataframe tbody tr th {\n",
       "        vertical-align: top;\n",
       "    }\n",
       "\n",
       "    .dataframe thead th {\n",
       "        text-align: right;\n",
       "    }\n",
       "</style>\n",
       "<table border=\"1\" class=\"dataframe\">\n",
       "  <thead>\n",
       "    <tr style=\"text-align: right;\">\n",
       "      <th></th>\n",
       "      <th>c2</th>\n",
       "    </tr>\n",
       "  </thead>\n",
       "  <tbody>\n",
       "    <tr>\n",
       "      <th>0</th>\n",
       "      <td>Male Characters</td>\n",
       "    </tr>\n",
       "    <tr>\n",
       "      <th>1</th>\n",
       "      <td>Male Characters</td>\n",
       "    </tr>\n",
       "    <tr>\n",
       "      <th>2</th>\n",
       "      <td>Male Characters</td>\n",
       "    </tr>\n",
       "    <tr>\n",
       "      <th>3</th>\n",
       "      <td>Male Characters</td>\n",
       "    </tr>\n",
       "    <tr>\n",
       "      <th>4</th>\n",
       "      <td>Male Characters</td>\n",
       "    </tr>\n",
       "    <tr>\n",
       "      <th>...</th>\n",
       "      <td>...</td>\n",
       "    </tr>\n",
       "    <tr>\n",
       "      <th>16371</th>\n",
       "      <td>Male Characters</td>\n",
       "    </tr>\n",
       "    <tr>\n",
       "      <th>16372</th>\n",
       "      <td>Male Characters</td>\n",
       "    </tr>\n",
       "    <tr>\n",
       "      <th>16373</th>\n",
       "      <td>Male Characters</td>\n",
       "    </tr>\n",
       "    <tr>\n",
       "      <th>16374</th>\n",
       "      <td>Male Characters</td>\n",
       "    </tr>\n",
       "    <tr>\n",
       "      <th>16375</th>\n",
       "      <td>Male Characters</td>\n",
       "    </tr>\n",
       "  </tbody>\n",
       "</table>\n",
       "<p>16376 rows × 1 columns</p>\n",
       "</div>"
      ],
      "text/plain": [
       "                    c2\n",
       "0      Male Characters\n",
       "1      Male Characters\n",
       "2      Male Characters\n",
       "3      Male Characters\n",
       "4      Male Characters\n",
       "...                ...\n",
       "16371  Male Characters\n",
       "16372  Male Characters\n",
       "16373  Male Characters\n",
       "16374  Male Characters\n",
       "16375  Male Characters\n",
       "\n",
       "[16376 rows x 1 columns]"
      ]
     },
     "execution_count": 25,
     "metadata": {},
     "output_type": "execute_result"
    }
   ],
   "source": [
    "cat_enc4 = pd.DataFrame({'c2':data_imp4.T[0]})\n",
    "cat_enc4"
   ]
  },
  {
   "cell_type": "code",
   "execution_count": 26,
   "metadata": {
    "datalore": {
     "hide_input_from_viewers": false,
     "hide_output_from_viewers": false,
     "type": "CODE"
    }
   },
   "outputs": [
    {
     "data": {
      "text/html": [
       "<div>\n",
       "<style scoped>\n",
       "    .dataframe tbody tr th:only-of-type {\n",
       "        vertical-align: middle;\n",
       "    }\n",
       "\n",
       "    .dataframe tbody tr th {\n",
       "        vertical-align: top;\n",
       "    }\n",
       "\n",
       "    .dataframe thead th {\n",
       "        text-align: right;\n",
       "    }\n",
       "</style>\n",
       "<table border=\"1\" class=\"dataframe\">\n",
       "  <thead>\n",
       "    <tr style=\"text-align: right;\">\n",
       "      <th></th>\n",
       "      <th>c2_Agender Characters</th>\n",
       "      <th>c2_Female Characters</th>\n",
       "      <th>c2_Genderfluid Characters</th>\n",
       "      <th>c2_Male Characters</th>\n",
       "    </tr>\n",
       "  </thead>\n",
       "  <tbody>\n",
       "    <tr>\n",
       "      <th>0</th>\n",
       "      <td>0</td>\n",
       "      <td>0</td>\n",
       "      <td>0</td>\n",
       "      <td>1</td>\n",
       "    </tr>\n",
       "    <tr>\n",
       "      <th>1</th>\n",
       "      <td>0</td>\n",
       "      <td>0</td>\n",
       "      <td>0</td>\n",
       "      <td>1</td>\n",
       "    </tr>\n",
       "    <tr>\n",
       "      <th>2</th>\n",
       "      <td>0</td>\n",
       "      <td>0</td>\n",
       "      <td>0</td>\n",
       "      <td>1</td>\n",
       "    </tr>\n",
       "    <tr>\n",
       "      <th>3</th>\n",
       "      <td>0</td>\n",
       "      <td>0</td>\n",
       "      <td>0</td>\n",
       "      <td>1</td>\n",
       "    </tr>\n",
       "    <tr>\n",
       "      <th>4</th>\n",
       "      <td>0</td>\n",
       "      <td>0</td>\n",
       "      <td>0</td>\n",
       "      <td>1</td>\n",
       "    </tr>\n",
       "  </tbody>\n",
       "</table>\n",
       "</div>"
      ],
      "text/plain": [
       "   c2_Agender Characters  c2_Female Characters  c2_Genderfluid Characters  \\\n",
       "0                      0                     0                          0   \n",
       "1                      0                     0                          0   \n",
       "2                      0                     0                          0   \n",
       "3                      0                     0                          0   \n",
       "4                      0                     0                          0   \n",
       "\n",
       "   c2_Male Characters  \n",
       "0                   1  \n",
       "1                   1  \n",
       "2                   1  \n",
       "3                   1  \n",
       "4                   1  "
      ]
     },
     "execution_count": 26,
     "metadata": {},
     "output_type": "execute_result"
    }
   ],
   "source": [
    "pd.get_dummies(cat_enc4).head()"
   ]
  },
  {
   "cell_type": "code",
   "execution_count": 27,
   "metadata": {
    "datalore": {
     "hide_input_from_viewers": false,
     "hide_output_from_viewers": false,
     "type": "CODE"
    }
   },
   "outputs": [],
   "source": [
    "ohe = OneHotEncoder()\n",
    "cat_enc_ohe = ohe.fit_transform(cat_enc4[['c2']])"
   ]
  },
  {
   "cell_type": "code",
   "execution_count": 28,
   "metadata": {
    "datalore": {
     "hide_input_from_viewers": false,
     "hide_output_from_viewers": false,
     "type": "CODE"
    }
   },
   "outputs": [
    {
     "data": {
      "text/plain": [
       "<16376x4 sparse matrix of type '<class 'numpy.float64'>'\n",
       "\twith 16376 stored elements in Compressed Sparse Row format>"
      ]
     },
     "execution_count": 28,
     "metadata": {},
     "output_type": "execute_result"
    }
   ],
   "source": [
    "cat_enc_ohe"
   ]
  },
  {
   "cell_type": "code",
   "execution_count": 29,
   "metadata": {
    "datalore": {
     "hide_input_from_viewers": false,
     "hide_output_from_viewers": false,
     "type": "CODE"
    }
   },
   "outputs": [
    {
     "data": {
      "text/plain": [
       "matrix([[0., 0., 0., 1.],\n",
       "        [0., 0., 0., 1.],\n",
       "        [0., 0., 0., 1.],\n",
       "        [0., 0., 0., 1.],\n",
       "        [0., 0., 0., 1.],\n",
       "        [0., 0., 0., 1.],\n",
       "        [0., 0., 0., 1.],\n",
       "        [0., 0., 0., 1.],\n",
       "        [0., 0., 0., 1.],\n",
       "        [0., 0., 0., 1.]])"
      ]
     },
     "execution_count": 29,
     "metadata": {},
     "output_type": "execute_result"
    }
   ],
   "source": [
    "cat_enc_ohe.todense()[0:10]"
   ]
  },
  {
   "cell_type": "markdown",
   "metadata": {
    "datalore": {
     "hide_input_from_viewers": false,
     "hide_output_from_viewers": false,
     "type": "MD"
    }
   },
   "source": [
    "**Построение скрипичной диаграммы**"
   ]
  },
  {
   "cell_type": "code",
   "execution_count": 34,
   "metadata": {
    "datalore": {
     "hide_input_from_viewers": false,
     "hide_output_from_viewers": false,
     "type": "CODE"
    }
   },
   "outputs": [],
   "source": [
    "import seaborn as sns"
   ]
  },
  {
   "cell_type": "code",
   "execution_count": 35,
   "metadata": {
    "datalore": {
     "hide_input_from_viewers": false,
     "hide_output_from_viewers": false,
     "type": "CODE"
    }
   },
   "outputs": [
    {
     "data": {
      "text/plain": [
       "<AxesSubplot:xlabel='Year'>"
      ]
     },
     "execution_count": 35,
     "metadata": {},
     "output_type": "execute_result"
    },
    {
     "data": {
      "image/png": "[encoded data removed]",
      "text/plain": [
       "<Figure size 432x288 with 1 Axes>"
      ]
     },
     "metadata": {},
     "output_type": "display_data"
    }
   ],
   "source": [
    "sns.violinplot(x=data['Year'])"
   ]
  },
  {
   "cell_type": "code",
   "execution_count": 36,
   "metadata": {
    "datalore": {
     "hide_input_from_viewers": false,
     "hide_output_from_viewers": false,
     "type": "CODE"
    }
   },
   "outputs": [
    {
     "name": "stderr",
     "output_type": "stream",
     "text": [
      "C:\\ProgramData\\Anaconda3\\lib\\site-packages\\seaborn\\distributions.py:2619: FutureWarning: `distplot` is a deprecated function and will be removed in a future version. Please adapt your code to use either `displot` (a figure-level function with similar flexibility) or `histplot` (an axes-level function for histograms).\n",
      "  warnings.warn(msg, FutureWarning)\n"
     ]
    },
    {
     "data": {
      "text/plain": [
       "<AxesSubplot:xlabel='Year', ylabel='Density'>"
      ]
     },
     "execution_count": 36,
     "metadata": {},
     "output_type": "execute_result"
    },
    {
     "data": {
      "image/png": "[encoded data removed]",
      "text/plain": [
       "<Figure size 720x720 with 2 Axes>"
      ]
     },
     "metadata": {},
     "output_type": "display_data"
    }
   ],
   "source": [
    "fig, ax = plt.subplots(2, 1, figsize=(10,10))\n",
    "sns.violinplot(ax=ax[0], x=data['Year'])\n",
    "sns.distplot(data['Year'], ax=ax[1])"
   ]
  },
  {
   "cell_type": "code",
   "execution_count": 37,
   "metadata": {
    "datalore": {
     "hide_input_from_viewers": false,
     "hide_output_from_viewers": false,
     "type": "CODE"
    }
   },
   "outputs": [
    {
     "data": {
      "text/plain": [
       "<AxesSubplot:xlabel='SEX', ylabel='Year'>"
      ]
     },
     "execution_count": 37,
     "metadata": {},
     "output_type": "execute_result"
    },
    {
     "data": {
      "image/png": "[encoded data removed]",
      "text/plain": [
       "<Figure size 432x288 with 1 Axes>"
      ]
     },
     "metadata": {},
     "output_type": "display_data"
    }
   ],
   "source": [
    "# Распределение параметра YEAR сгруппированные по SEX.\n",
    "sns.violinplot(x='SEX', y='Year', data=data)"
   ]
  },
  {
   "cell_type": "code",
   "execution_count": null,
   "metadata": {},
   "outputs": [],
   "source": []
  }
 ],
 "metadata": {
  "datalore": {
   "base_environment": "default",
   "computation_mode": "JUPYTER",
   "package_manager": "pip",
   "packages": [],
   "version": 1
  },
  "kernelspec": {
   "display_name": "Python 3 (ipykernel)",
   "language": "python",
   "name": "python3"
  },
  "language_info": {
   "codemirror_mode": {
    "name": "ipython",
    "version": 3
   },
   "file_extension": ".py",
   "mimetype": "text/x-python",
   "name": "python",
   "nbconvert_exporter": "python",
   "pygments_lexer": "ipython3",
   "version": "3.9.7"
  }
 },
 "nbformat": 4,
 "nbformat_minor": 4
}
